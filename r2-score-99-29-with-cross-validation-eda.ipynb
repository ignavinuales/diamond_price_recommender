{
 "cells": [
  {
   "cell_type": "markdown",
   "id": "3f68f8de",
   "metadata": {
    "papermill": {
     "duration": 0.018487,
     "end_time": "2022-06-15T11:02:49.729911",
     "exception": false,
     "start_time": "2022-06-15T11:02:49.711424",
     "status": "completed"
    },
    "tags": []
   },
   "source": [
    "<span style=\"color:#478979; font-size:28px; font-weight: bold;\">  Price of diamonds prediction and EDA </span> "
   ]
  },
  {
   "cell_type": "markdown",
   "id": "eff9473c",
   "metadata": {
    "papermill": {
     "duration": 0.016491,
     "end_time": "2022-06-15T11:02:49.764635",
     "exception": false,
     "start_time": "2022-06-15T11:02:49.748144",
     "status": "completed"
    },
    "tags": []
   },
   "source": [
    "<html>\n",
    "<body>\n",
    "<div style=\"color:#478979;\n",
    "            border-style: solid;\n",
    "            border-radius: 25px;\n",
    "            border-color: #478979;\n",
    "            padding-left: 10px\">\n",
    "       \n",
    "<span style=\"color:#478979; font-size:20px; font-weight: bold;\">  Brief Description </span><br>\n",
    "    \n",
    "The dataset for this project contains attributes and prices of around 54,000 diamonds. <br>\n",
    "<br>\n",
    "<span style=\"font-weight: bold;\"> Objectives: </span>\n",
    "<li>Perform an Explanatory Data Analysis (EDA).\n",
    "<li>Create a machine learning model to predict the diamond prices. <br>\n",
    "<br>\n",
    "<span style=\"font-weight: bold;\"> Regression models used: </span> Linear, Polynomial, Ridge, Lasso, and CatBoost. <br>\n",
    "<br>\n",
    "\n",
    "\n",
    "<span style=\"font-weight: bold;\"> The ten features and target are : </span> <br>\n",
    "<li>Weight: weight of the diamond.<br>\n",
    "<li>Length (x): length of the diamond.<br>\n",
    "<li>Width (y): width of the diamond<br>\n",
    "<li>Depth (z): depth of the diamond.<br>\n",
    "<li>%Depth: depth percentage. Formula:  z / mean(x, y) = 2 * z / (x + y)<br>\n",
    "<li>Table: width of top of the diamond relative to the widest point.<br>\n",
    "<li>Quality: quality of the diamond. Possible values (from best to worst): ideal, premium, very good, good, fair.<br>\n",
    "<li>Color: color of the diamond. Possible values: from D (best) to J (worst).<br>\n",
    "<li>Clarity: measurement of how clear the diamond is. Possible values (from best to worst): IF, VVS1, VVS2, VS1, VS2, SI1, SI2, I1.<br>\n",
    "<li>Price (target): price of the diamond in US dollars.<br>\n",
    "\n",
    "<br>\n",
    "\n",
    "<span style=\"font-weight: bold;\"> Dataset source: </span> https://www.kaggle.com/datasets/shivam2503/diamonds <br>\n",
    "</p>\n",
    "</div>\n",
    "\n",
    "</body>\n",
    "</html>"
   ]
  },
  {
   "cell_type": "markdown",
   "id": "a14023cb",
   "metadata": {
    "papermill": {
     "duration": 0.016637,
     "end_time": "2022-06-15T11:02:49.798254",
     "exception": false,
     "start_time": "2022-06-15T11:02:49.781617",
     "status": "completed"
    },
    "tags": []
   },
   "source": [
    "<span style=\"color:#478979; font-size:28px; font-weight: bold;\">  Importing libraries </span> "
   ]
  },
  {
   "cell_type": "code",
   "execution_count": 2,
   "id": "f771a4f7",
   "metadata": {
    "execution": {
     "iopub.execute_input": "2022-06-15T11:02:49.834396Z",
     "iopub.status.busy": "2022-06-15T11:02:49.833573Z",
     "iopub.status.idle": "2022-06-15T11:02:52.578807Z",
     "shell.execute_reply": "2022-06-15T11:02:52.577841Z"
    },
    "papermill": {
     "duration": 2.765741,
     "end_time": "2022-06-15T11:02:52.581160",
     "exception": false,
     "start_time": "2022-06-15T11:02:49.815419",
     "status": "completed"
    },
    "tags": []
   },
   "outputs": [],
   "source": [
    "import pandas as pd\n",
    "import numpy as np\n",
    "import matplotlib.pyplot as plt\n",
    "import seaborn as sns\n",
    "import plotly.express as px\n",
    "from scipy import stats\n",
    "# from sklearn.preprocessing import OrdinalEncoder, OneHotEncoder, StandardScaler, PolynomialFeatures\n",
    "# from sklearn.linear_model import LinearRegression, Ridge, Lasso\n",
    "# from sklearn.pipeline import Pipeline\n",
    "# from sklearn.metrics import r2_score\n",
    "# from sklearn.model_selection import train_test_split, ShuffleSplit, KFold, cross_val_predict, cross_val_score\n",
    "# from sklearn.model_selection import GridSearchCV, RandomizedSearchCV\n",
    "from catboost import CatBoostRegressor\n",
    "import pickle"
   ]
  },
  {
   "cell_type": "markdown",
   "id": "9e2c47b8",
   "metadata": {
    "papermill": {
     "duration": 0.016431,
     "end_time": "2022-06-15T11:02:52.614436",
     "exception": false,
     "start_time": "2022-06-15T11:02:52.598005",
     "status": "completed"
    },
    "tags": []
   },
   "source": [
    "<span style=\"color:#478979; font-size:28px; font-weight: bold;\">  Loading data and first impressions </span> "
   ]
  },
  {
   "cell_type": "code",
   "execution_count": 3,
   "id": "6a330a61",
   "metadata": {
    "execution": {
     "iopub.execute_input": "2022-06-15T11:02:52.649386Z",
     "iopub.status.busy": "2022-06-15T11:02:52.648873Z",
     "iopub.status.idle": "2022-06-15T11:02:52.789623Z",
     "shell.execute_reply": "2022-06-15T11:02:52.788672Z"
    },
    "papermill": {
     "duration": 0.161829,
     "end_time": "2022-06-15T11:02:52.792861",
     "exception": false,
     "start_time": "2022-06-15T11:02:52.631032",
     "status": "completed"
    },
    "tags": []
   },
   "outputs": [
    {
     "ename": "FileNotFoundError",
     "evalue": "[Errno 2] No such file or directory: '../input/diamonds/diamonds.csv'",
     "output_type": "error",
     "traceback": [
      "\u001b[0;31m---------------------------------------------------------------------------\u001b[0m",
      "\u001b[0;31mFileNotFoundError\u001b[0m                         Traceback (most recent call last)",
      "Cell \u001b[0;32mIn [3], line 1\u001b[0m\n\u001b[0;32m----> 1\u001b[0m raw_data \u001b[39m=\u001b[39m pd\u001b[39m.\u001b[39;49mread_csv(\u001b[39m'\u001b[39;49m\u001b[39m../input/diamonds/diamonds.csv\u001b[39;49m\u001b[39m'\u001b[39;49m)\n\u001b[1;32m      2\u001b[0m raw_data\u001b[39m.\u001b[39mdrop(\u001b[39m'\u001b[39m\u001b[39mUnnamed: 0\u001b[39m\u001b[39m'\u001b[39m, axis\u001b[39m=\u001b[39m\u001b[39m1\u001b[39m, inplace\u001b[39m=\u001b[39m\u001b[39mTrue\u001b[39;00m)\n\u001b[1;32m      4\u001b[0m \u001b[39m#create a copy of the data\u001b[39;00m\n",
      "File \u001b[0;32m/opt/anaconda3/envs/diamondsproject/lib/python3.10/site-packages/pandas/util/_decorators.py:311\u001b[0m, in \u001b[0;36mdeprecate_nonkeyword_arguments.<locals>.decorate.<locals>.wrapper\u001b[0;34m(*args, **kwargs)\u001b[0m\n\u001b[1;32m    305\u001b[0m \u001b[39mif\u001b[39;00m \u001b[39mlen\u001b[39m(args) \u001b[39m>\u001b[39m num_allow_args:\n\u001b[1;32m    306\u001b[0m     warnings\u001b[39m.\u001b[39mwarn(\n\u001b[1;32m    307\u001b[0m         msg\u001b[39m.\u001b[39mformat(arguments\u001b[39m=\u001b[39marguments),\n\u001b[1;32m    308\u001b[0m         \u001b[39mFutureWarning\u001b[39;00m,\n\u001b[1;32m    309\u001b[0m         stacklevel\u001b[39m=\u001b[39mstacklevel,\n\u001b[1;32m    310\u001b[0m     )\n\u001b[0;32m--> 311\u001b[0m \u001b[39mreturn\u001b[39;00m func(\u001b[39m*\u001b[39;49margs, \u001b[39m*\u001b[39;49m\u001b[39m*\u001b[39;49mkwargs)\n",
      "File \u001b[0;32m/opt/anaconda3/envs/diamondsproject/lib/python3.10/site-packages/pandas/io/parsers/readers.py:678\u001b[0m, in \u001b[0;36mread_csv\u001b[0;34m(filepath_or_buffer, sep, delimiter, header, names, index_col, usecols, squeeze, prefix, mangle_dupe_cols, dtype, engine, converters, true_values, false_values, skipinitialspace, skiprows, skipfooter, nrows, na_values, keep_default_na, na_filter, verbose, skip_blank_lines, parse_dates, infer_datetime_format, keep_date_col, date_parser, dayfirst, cache_dates, iterator, chunksize, compression, thousands, decimal, lineterminator, quotechar, quoting, doublequote, escapechar, comment, encoding, encoding_errors, dialect, error_bad_lines, warn_bad_lines, on_bad_lines, delim_whitespace, low_memory, memory_map, float_precision, storage_options)\u001b[0m\n\u001b[1;32m    663\u001b[0m kwds_defaults \u001b[39m=\u001b[39m _refine_defaults_read(\n\u001b[1;32m    664\u001b[0m     dialect,\n\u001b[1;32m    665\u001b[0m     delimiter,\n\u001b[0;32m   (...)\u001b[0m\n\u001b[1;32m    674\u001b[0m     defaults\u001b[39m=\u001b[39m{\u001b[39m\"\u001b[39m\u001b[39mdelimiter\u001b[39m\u001b[39m\"\u001b[39m: \u001b[39m\"\u001b[39m\u001b[39m,\u001b[39m\u001b[39m\"\u001b[39m},\n\u001b[1;32m    675\u001b[0m )\n\u001b[1;32m    676\u001b[0m kwds\u001b[39m.\u001b[39mupdate(kwds_defaults)\n\u001b[0;32m--> 678\u001b[0m \u001b[39mreturn\u001b[39;00m _read(filepath_or_buffer, kwds)\n",
      "File \u001b[0;32m/opt/anaconda3/envs/diamondsproject/lib/python3.10/site-packages/pandas/io/parsers/readers.py:575\u001b[0m, in \u001b[0;36m_read\u001b[0;34m(filepath_or_buffer, kwds)\u001b[0m\n\u001b[1;32m    572\u001b[0m _validate_names(kwds\u001b[39m.\u001b[39mget(\u001b[39m\"\u001b[39m\u001b[39mnames\u001b[39m\u001b[39m\"\u001b[39m, \u001b[39mNone\u001b[39;00m))\n\u001b[1;32m    574\u001b[0m \u001b[39m# Create the parser.\u001b[39;00m\n\u001b[0;32m--> 575\u001b[0m parser \u001b[39m=\u001b[39m TextFileReader(filepath_or_buffer, \u001b[39m*\u001b[39;49m\u001b[39m*\u001b[39;49mkwds)\n\u001b[1;32m    577\u001b[0m \u001b[39mif\u001b[39;00m chunksize \u001b[39mor\u001b[39;00m iterator:\n\u001b[1;32m    578\u001b[0m     \u001b[39mreturn\u001b[39;00m parser\n",
      "File \u001b[0;32m/opt/anaconda3/envs/diamondsproject/lib/python3.10/site-packages/pandas/io/parsers/readers.py:932\u001b[0m, in \u001b[0;36mTextFileReader.__init__\u001b[0;34m(self, f, engine, **kwds)\u001b[0m\n\u001b[1;32m    929\u001b[0m     \u001b[39mself\u001b[39m\u001b[39m.\u001b[39moptions[\u001b[39m\"\u001b[39m\u001b[39mhas_index_names\u001b[39m\u001b[39m\"\u001b[39m] \u001b[39m=\u001b[39m kwds[\u001b[39m\"\u001b[39m\u001b[39mhas_index_names\u001b[39m\u001b[39m\"\u001b[39m]\n\u001b[1;32m    931\u001b[0m \u001b[39mself\u001b[39m\u001b[39m.\u001b[39mhandles: IOHandles \u001b[39m|\u001b[39m \u001b[39mNone\u001b[39;00m \u001b[39m=\u001b[39m \u001b[39mNone\u001b[39;00m\n\u001b[0;32m--> 932\u001b[0m \u001b[39mself\u001b[39m\u001b[39m.\u001b[39m_engine \u001b[39m=\u001b[39m \u001b[39mself\u001b[39;49m\u001b[39m.\u001b[39;49m_make_engine(f, \u001b[39mself\u001b[39;49m\u001b[39m.\u001b[39;49mengine)\n",
      "File \u001b[0;32m/opt/anaconda3/envs/diamondsproject/lib/python3.10/site-packages/pandas/io/parsers/readers.py:1216\u001b[0m, in \u001b[0;36mTextFileReader._make_engine\u001b[0;34m(self, f, engine)\u001b[0m\n\u001b[1;32m   1212\u001b[0m     mode \u001b[39m=\u001b[39m \u001b[39m\"\u001b[39m\u001b[39mrb\u001b[39m\u001b[39m\"\u001b[39m\n\u001b[1;32m   1213\u001b[0m \u001b[39m# error: No overload variant of \"get_handle\" matches argument types\u001b[39;00m\n\u001b[1;32m   1214\u001b[0m \u001b[39m# \"Union[str, PathLike[str], ReadCsvBuffer[bytes], ReadCsvBuffer[str]]\"\u001b[39;00m\n\u001b[1;32m   1215\u001b[0m \u001b[39m# , \"str\", \"bool\", \"Any\", \"Any\", \"Any\", \"Any\", \"Any\"\u001b[39;00m\n\u001b[0;32m-> 1216\u001b[0m \u001b[39mself\u001b[39m\u001b[39m.\u001b[39mhandles \u001b[39m=\u001b[39m get_handle(  \u001b[39m# type: ignore[call-overload]\u001b[39;49;00m\n\u001b[1;32m   1217\u001b[0m     f,\n\u001b[1;32m   1218\u001b[0m     mode,\n\u001b[1;32m   1219\u001b[0m     encoding\u001b[39m=\u001b[39;49m\u001b[39mself\u001b[39;49m\u001b[39m.\u001b[39;49moptions\u001b[39m.\u001b[39;49mget(\u001b[39m\"\u001b[39;49m\u001b[39mencoding\u001b[39;49m\u001b[39m\"\u001b[39;49m, \u001b[39mNone\u001b[39;49;00m),\n\u001b[1;32m   1220\u001b[0m     compression\u001b[39m=\u001b[39;49m\u001b[39mself\u001b[39;49m\u001b[39m.\u001b[39;49moptions\u001b[39m.\u001b[39;49mget(\u001b[39m\"\u001b[39;49m\u001b[39mcompression\u001b[39;49m\u001b[39m\"\u001b[39;49m, \u001b[39mNone\u001b[39;49;00m),\n\u001b[1;32m   1221\u001b[0m     memory_map\u001b[39m=\u001b[39;49m\u001b[39mself\u001b[39;49m\u001b[39m.\u001b[39;49moptions\u001b[39m.\u001b[39;49mget(\u001b[39m\"\u001b[39;49m\u001b[39mmemory_map\u001b[39;49m\u001b[39m\"\u001b[39;49m, \u001b[39mFalse\u001b[39;49;00m),\n\u001b[1;32m   1222\u001b[0m     is_text\u001b[39m=\u001b[39;49mis_text,\n\u001b[1;32m   1223\u001b[0m     errors\u001b[39m=\u001b[39;49m\u001b[39mself\u001b[39;49m\u001b[39m.\u001b[39;49moptions\u001b[39m.\u001b[39;49mget(\u001b[39m\"\u001b[39;49m\u001b[39mencoding_errors\u001b[39;49m\u001b[39m\"\u001b[39;49m, \u001b[39m\"\u001b[39;49m\u001b[39mstrict\u001b[39;49m\u001b[39m\"\u001b[39;49m),\n\u001b[1;32m   1224\u001b[0m     storage_options\u001b[39m=\u001b[39;49m\u001b[39mself\u001b[39;49m\u001b[39m.\u001b[39;49moptions\u001b[39m.\u001b[39;49mget(\u001b[39m\"\u001b[39;49m\u001b[39mstorage_options\u001b[39;49m\u001b[39m\"\u001b[39;49m, \u001b[39mNone\u001b[39;49;00m),\n\u001b[1;32m   1225\u001b[0m )\n\u001b[1;32m   1226\u001b[0m \u001b[39massert\u001b[39;00m \u001b[39mself\u001b[39m\u001b[39m.\u001b[39mhandles \u001b[39mis\u001b[39;00m \u001b[39mnot\u001b[39;00m \u001b[39mNone\u001b[39;00m\n\u001b[1;32m   1227\u001b[0m f \u001b[39m=\u001b[39m \u001b[39mself\u001b[39m\u001b[39m.\u001b[39mhandles\u001b[39m.\u001b[39mhandle\n",
      "File \u001b[0;32m/opt/anaconda3/envs/diamondsproject/lib/python3.10/site-packages/pandas/io/common.py:786\u001b[0m, in \u001b[0;36mget_handle\u001b[0;34m(path_or_buf, mode, encoding, compression, memory_map, is_text, errors, storage_options)\u001b[0m\n\u001b[1;32m    781\u001b[0m \u001b[39melif\u001b[39;00m \u001b[39misinstance\u001b[39m(handle, \u001b[39mstr\u001b[39m):\n\u001b[1;32m    782\u001b[0m     \u001b[39m# Check whether the filename is to be opened in binary mode.\u001b[39;00m\n\u001b[1;32m    783\u001b[0m     \u001b[39m# Binary mode does not support 'encoding' and 'newline'.\u001b[39;00m\n\u001b[1;32m    784\u001b[0m     \u001b[39mif\u001b[39;00m ioargs\u001b[39m.\u001b[39mencoding \u001b[39mand\u001b[39;00m \u001b[39m\"\u001b[39m\u001b[39mb\u001b[39m\u001b[39m\"\u001b[39m \u001b[39mnot\u001b[39;00m \u001b[39min\u001b[39;00m ioargs\u001b[39m.\u001b[39mmode:\n\u001b[1;32m    785\u001b[0m         \u001b[39m# Encoding\u001b[39;00m\n\u001b[0;32m--> 786\u001b[0m         handle \u001b[39m=\u001b[39m \u001b[39mopen\u001b[39;49m(\n\u001b[1;32m    787\u001b[0m             handle,\n\u001b[1;32m    788\u001b[0m             ioargs\u001b[39m.\u001b[39;49mmode,\n\u001b[1;32m    789\u001b[0m             encoding\u001b[39m=\u001b[39;49mioargs\u001b[39m.\u001b[39;49mencoding,\n\u001b[1;32m    790\u001b[0m             errors\u001b[39m=\u001b[39;49merrors,\n\u001b[1;32m    791\u001b[0m             newline\u001b[39m=\u001b[39;49m\u001b[39m\"\u001b[39;49m\u001b[39m\"\u001b[39;49m,\n\u001b[1;32m    792\u001b[0m         )\n\u001b[1;32m    793\u001b[0m     \u001b[39melse\u001b[39;00m:\n\u001b[1;32m    794\u001b[0m         \u001b[39m# Binary mode\u001b[39;00m\n\u001b[1;32m    795\u001b[0m         handle \u001b[39m=\u001b[39m \u001b[39mopen\u001b[39m(handle, ioargs\u001b[39m.\u001b[39mmode)\n",
      "\u001b[0;31mFileNotFoundError\u001b[0m: [Errno 2] No such file or directory: '../input/diamonds/diamonds.csv'"
     ]
    }
   ],
   "source": [
    "raw_data = pd.read_csv('Diamonds_dataset.csv')\n",
    "raw_data.drop('Unnamed: 0', axis=1, inplace=True)\n",
    "\n",
    "#create a copy of the data\n",
    "df = raw_data.copy()\n",
    "df.head()"
   ]
  },
  {
   "cell_type": "markdown",
   "id": "c97bc15d",
   "metadata": {
    "papermill": {
     "duration": 0.017177,
     "end_time": "2022-06-15T11:02:52.828256",
     "exception": false,
     "start_time": "2022-06-15T11:02:52.811079",
     "status": "completed"
    },
    "tags": []
   },
   "source": [
    "Let's change the name and order of the columns for easier readability:"
   ]
  },
  {
   "cell_type": "code",
   "execution_count": null,
   "id": "69835e0f",
   "metadata": {
    "execution": {
     "iopub.execute_input": "2022-06-15T11:02:52.864143Z",
     "iopub.status.busy": "2022-06-15T11:02:52.863528Z",
     "iopub.status.idle": "2022-06-15T11:02:52.883642Z",
     "shell.execute_reply": "2022-06-15T11:02:52.882929Z"
    },
    "papermill": {
     "duration": 0.040166,
     "end_time": "2022-06-15T11:02:52.885471",
     "exception": false,
     "start_time": "2022-06-15T11:02:52.845305",
     "status": "completed"
    },
    "tags": []
   },
   "outputs": [],
   "source": [
    "#Changing the column names\n",
    "col_names = {'carat': 'weight',\n",
    "             'cut': 'quality',\n",
    "             'depth': '%depth',\n",
    "             'x': 'length',\n",
    "             'y': 'width',\n",
    "             'z': 'depth'}\n",
    "\n",
    "df.rename(columns=col_names, inplace=True)\n",
    "\n",
    "#Changing the order of the columns\n",
    "df = df[['weight', 'length', 'width', 'depth', '%depth', 'table', 'quality', 'color', 'clarity', 'price']]\n",
    "\n",
    "df.head()"
   ]
  },
  {
   "cell_type": "markdown",
   "id": "3488f32e",
   "metadata": {
    "papermill": {
     "duration": 0.017252,
     "end_time": "2022-06-15T11:02:52.919861",
     "exception": false,
     "start_time": "2022-06-15T11:02:52.902609",
     "status": "completed"
    },
    "tags": []
   },
   "source": [
    "Checking the data types:"
   ]
  },
  {
   "cell_type": "code",
   "execution_count": null,
   "id": "b67f00a1",
   "metadata": {
    "execution": {
     "iopub.execute_input": "2022-06-15T11:02:52.956764Z",
     "iopub.status.busy": "2022-06-15T11:02:52.956266Z",
     "iopub.status.idle": "2022-06-15T11:02:52.964824Z",
     "shell.execute_reply": "2022-06-15T11:02:52.963963Z"
    },
    "papermill": {
     "duration": 0.029043,
     "end_time": "2022-06-15T11:02:52.966663",
     "exception": false,
     "start_time": "2022-06-15T11:02:52.937620",
     "status": "completed"
    },
    "tags": []
   },
   "outputs": [],
   "source": [
    "#Check dtypes\n",
    "print(df.dtypes)\n",
    "print('===================')\n",
    "print(df.dtypes.value_counts())\n",
    "print('===================')"
   ]
  },
  {
   "cell_type": "markdown",
   "id": "cc3d2d61",
   "metadata": {
    "papermill": {
     "duration": 0.017141,
     "end_time": "2022-06-15T11:02:53.001251",
     "exception": false,
     "start_time": "2022-06-15T11:02:52.984110",
     "status": "completed"
    },
    "tags": []
   },
   "source": [
    "As expected, 'quality', 'color', and 'clarity' are categorical variables. Let's see their possible values:"
   ]
  },
  {
   "cell_type": "code",
   "execution_count": null,
   "id": "0dc8a49f",
   "metadata": {
    "execution": {
     "iopub.execute_input": "2022-06-15T11:02:53.038032Z",
     "iopub.status.busy": "2022-06-15T11:02:53.037166Z",
     "iopub.status.idle": "2022-06-15T11:02:53.055580Z",
     "shell.execute_reply": "2022-06-15T11:02:53.054844Z"
    },
    "papermill": {
     "duration": 0.039423,
     "end_time": "2022-06-15T11:02:53.057769",
     "exception": false,
     "start_time": "2022-06-15T11:02:53.018346",
     "status": "completed"
    },
    "tags": []
   },
   "outputs": [],
   "source": [
    "print(df['quality'].value_counts(normalize=True))\n",
    "print('===================')\n",
    "print(df['color'].value_counts(normalize=True))\n",
    "print('===================')\n",
    "print(df['clarity'].value_counts(normalize=True))"
   ]
  },
  {
   "cell_type": "markdown",
   "id": "c3e25ce0",
   "metadata": {
    "papermill": {
     "duration": 0.016909,
     "end_time": "2022-06-15T11:02:53.092054",
     "exception": false,
     "start_time": "2022-06-15T11:02:53.075145",
     "status": "completed"
    },
    "tags": []
   },
   "source": [
    "As expected from the dataset description, the possible values for these features are:\n",
    "* 'Quality': assumes six possible values.\n",
    "* 'Color': assumes seven possible values.\n",
    "* 'Clarity': assumes eight posssible values. \n",
    "\n",
    "\n",
    "Now, let's check for missing values across the entire dataset:"
   ]
  },
  {
   "cell_type": "code",
   "execution_count": null,
   "id": "3bb5e51b",
   "metadata": {
    "execution": {
     "iopub.execute_input": "2022-06-15T11:02:53.127921Z",
     "iopub.status.busy": "2022-06-15T11:02:53.127527Z",
     "iopub.status.idle": "2022-06-15T11:02:53.142688Z",
     "shell.execute_reply": "2022-06-15T11:02:53.142066Z"
    },
    "papermill": {
     "duration": 0.035184,
     "end_time": "2022-06-15T11:02:53.144385",
     "exception": false,
     "start_time": "2022-06-15T11:02:53.109201",
     "status": "completed"
    },
    "tags": []
   },
   "outputs": [],
   "source": [
    "# Checking for missing values\n",
    "df.isna().sum()"
   ]
  },
  {
   "cell_type": "markdown",
   "id": "acad5f37",
   "metadata": {
    "papermill": {
     "duration": 0.0174,
     "end_time": "2022-06-15T11:02:53.179779",
     "exception": false,
     "start_time": "2022-06-15T11:02:53.162379",
     "status": "completed"
    },
    "tags": []
   },
   "source": [
    "Fortunately, there are not missing values."
   ]
  },
  {
   "cell_type": "code",
   "execution_count": null,
   "id": "2d3e9fcf",
   "metadata": {
    "execution": {
     "iopub.execute_input": "2022-06-15T11:02:53.216235Z",
     "iopub.status.busy": "2022-06-15T11:02:53.215633Z",
     "iopub.status.idle": "2022-06-15T11:02:53.264072Z",
     "shell.execute_reply": "2022-06-15T11:02:53.263132Z"
    },
    "papermill": {
     "duration": 0.068877,
     "end_time": "2022-06-15T11:02:53.266124",
     "exception": false,
     "start_time": "2022-06-15T11:02:53.197247",
     "status": "completed"
    },
    "tags": []
   },
   "outputs": [],
   "source": [
    "df.describe()"
   ]
  },
  {
   "cell_type": "markdown",
   "id": "8d8dd684",
   "metadata": {
    "papermill": {
     "duration": 0.017305,
     "end_time": "2022-06-15T11:02:53.301253",
     "exception": false,
     "start_time": "2022-06-15T11:02:53.283948",
     "status": "completed"
    },
    "tags": []
   },
   "source": [
    "**Quick insights:**\n",
    "* There are 53,940 instances and no missing values.\n",
    "* The features (quality, color, and clarity) are categorical and need to be enconded.\n",
    "* Taking a quick look at the table above, we see that some features and the price target might have some outliers. For instance, the mean 'width' is 5.73. However, the maximum value found in the dataset is 58.9. Therefore, we need to check the distribution and possibly some boxplots.\n"
   ]
  },
  {
   "cell_type": "markdown",
   "id": "c442d6e9",
   "metadata": {
    "papermill": {
     "duration": 0.017271,
     "end_time": "2022-06-15T11:02:53.336278",
     "exception": false,
     "start_time": "2022-06-15T11:02:53.319007",
     "status": "completed"
    },
    "tags": []
   },
   "source": [
    "<span style=\"color:#478979; font-size:28px; font-weight: bold;\">  Explanatory Data Analysis (EDA) </span> "
   ]
  },
  {
   "cell_type": "markdown",
   "id": "8e62b0bb",
   "metadata": {
    "papermill": {
     "duration": 0.017371,
     "end_time": "2022-06-15T11:02:53.371289",
     "exception": false,
     "start_time": "2022-06-15T11:02:53.353918",
     "status": "completed"
    },
    "tags": []
   },
   "source": [
    "<span style=\"color:#478979; font-size:22px; font-weight: bold;\"> Price wrt numeric features </span>"
   ]
  },
  {
   "cell_type": "markdown",
   "id": "08e2e4e8",
   "metadata": {
    "papermill": {
     "duration": 0.017234,
     "end_time": "2022-06-15T11:02:53.406262",
     "exception": false,
     "start_time": "2022-06-15T11:02:53.389028",
     "status": "completed"
    },
    "tags": []
   },
   "source": [
    "Let's start off plotting how the price behaves with respect to the numeric features:"
   ]
  },
  {
   "cell_type": "code",
   "execution_count": null,
   "id": "cc1ca985",
   "metadata": {
    "execution": {
     "iopub.execute_input": "2022-06-15T11:02:53.442958Z",
     "iopub.status.busy": "2022-06-15T11:02:53.442585Z",
     "iopub.status.idle": "2022-06-15T11:02:55.030460Z",
     "shell.execute_reply": "2022-06-15T11:02:55.029439Z"
    },
    "papermill": {
     "duration": 1.613963,
     "end_time": "2022-06-15T11:02:55.037811",
     "exception": false,
     "start_time": "2022-06-15T11:02:53.423848",
     "status": "completed"
    },
    "tags": []
   },
   "outputs": [],
   "source": [
    "fig, axes = plt.subplots(2, 3, figsize=[25,12])\n",
    "features = ['weight', 'length', 'width', 'depth', '%depth', 'table']\n",
    "fig.suptitle('Price wrt numeric features', fontsize=20)\n",
    "plt.rcParams['axes.titlesize'] = 15\n",
    "\n",
    "i=0\n",
    "j=0\n",
    "\n",
    "for col in features:\n",
    "    \n",
    "    sns.scatterplot(data=df, x=col, y='price',  color='#7C5195', ax=axes[i,j])\n",
    "    axes[i,j].set_title('Price by ' + col)\n",
    "    j += 1\n",
    "    if j == 3:\n",
    "        j = 0\n",
    "        i = 1"
   ]
  },
  {
   "cell_type": "markdown",
   "id": "2bba372c",
   "metadata": {
    "papermill": {
     "duration": 0.02626,
     "end_time": "2022-06-15T11:02:55.090111",
     "exception": false,
     "start_time": "2022-06-15T11:02:55.063851",
     "status": "completed"
    },
    "tags": []
   },
   "source": [
    "**Insights:**\n",
    "* Weight, length, width, and depth seem to have a higher correlation with price.\n",
    "* There is no evident correlation between price and both %depth and table. \n",
    "* There seem to be some outliers, especially in width and depth, as well as %depth and price.\n",
    "\n",
    "Let's plot a correlation heatmap to dig in a bit deeper:"
   ]
  },
  {
   "cell_type": "markdown",
   "id": "a7a13370",
   "metadata": {
    "papermill": {
     "duration": 0.026075,
     "end_time": "2022-06-15T11:02:55.142921",
     "exception": false,
     "start_time": "2022-06-15T11:02:55.116846",
     "status": "completed"
    },
    "tags": []
   },
   "source": [
    "<span style=\"color:#478979; font-size:22px; font-weight: bold;\"> Correllation Heatmap </span>"
   ]
  },
  {
   "cell_type": "code",
   "execution_count": null,
   "id": "ad29a4f8",
   "metadata": {
    "execution": {
     "iopub.execute_input": "2022-06-15T11:02:55.196524Z",
     "iopub.status.busy": "2022-06-15T11:02:55.196154Z",
     "iopub.status.idle": "2022-06-15T11:02:56.137188Z",
     "shell.execute_reply": "2022-06-15T11:02:56.136255Z"
    },
    "papermill": {
     "duration": 0.970035,
     "end_time": "2022-06-15T11:02:56.139266",
     "exception": false,
     "start_time": "2022-06-15T11:02:55.169231",
     "status": "completed"
    },
    "tags": []
   },
   "outputs": [],
   "source": [
    "fig = px.imshow(round(df.corr(), 2), text_auto=True,\n",
    "                width=800, height=600,\n",
    "                labels={'color':'Correlation'},\n",
    "                title='Correlation Heatmap')\n",
    "fig.show()"
   ]
  },
  {
   "cell_type": "markdown",
   "id": "7bd3300d",
   "metadata": {
    "papermill": {
     "duration": 0.026374,
     "end_time": "2022-06-15T11:02:56.193344",
     "exception": false,
     "start_time": "2022-06-15T11:02:56.166970",
     "status": "completed"
    },
    "tags": []
   },
   "source": [
    "**Insight:**\n",
    "* As expected, high correlation between the sizes of the diamonds and their price.\n",
    "* Lower correlation between table and price.\n",
    "* Almost no correlation between %depth and price. We might want to remove this feature to build the ML models.\n",
    "* Correllation between numeric features and price are positve. Meaning that the higher the size of the diamond, the more costly it is, which actually makes sense."
   ]
  },
  {
   "cell_type": "markdown",
   "id": "6f764f4a",
   "metadata": {
    "papermill": {
     "duration": 0.026441,
     "end_time": "2022-06-15T11:02:56.246590",
     "exception": false,
     "start_time": "2022-06-15T11:02:56.220149",
     "status": "completed"
    },
    "tags": []
   },
   "source": [
    "<span style=\"color:#478979; font-size:22px; font-weight: bold;\"> Dealing with outliers </span>"
   ]
  },
  {
   "cell_type": "markdown",
   "id": "57508e83",
   "metadata": {
    "papermill": {
     "duration": 0.027464,
     "end_time": "2022-06-15T11:02:56.300782",
     "exception": false,
     "start_time": "2022-06-15T11:02:56.273318",
     "status": "completed"
    },
    "tags": []
   },
   "source": [
    "Now, coming back to the outliers, let's plot some boxplots:"
   ]
  },
  {
   "cell_type": "code",
   "execution_count": null,
   "id": "da6847cb",
   "metadata": {
    "execution": {
     "iopub.execute_input": "2022-06-15T11:02:56.355337Z",
     "iopub.status.busy": "2022-06-15T11:02:56.354981Z",
     "iopub.status.idle": "2022-06-15T11:02:56.929594Z",
     "shell.execute_reply": "2022-06-15T11:02:56.928900Z"
    },
    "papermill": {
     "duration": 0.603991,
     "end_time": "2022-06-15T11:02:56.931370",
     "exception": false,
     "start_time": "2022-06-15T11:02:56.327379",
     "status": "completed"
    },
    "tags": []
   },
   "outputs": [],
   "source": [
    "fig, axes = plt.subplots(2, 3, figsize=[25,12])\n",
    "features = ['weight', 'length', 'width', 'depth', '%depth', 'table']\n",
    "fig.suptitle('Numeric features boxplots', fontsize=20)\n",
    "plt.rcParams['axes.titlesize'] = 15\n",
    "\n",
    "i=0\n",
    "j=0\n",
    "\n",
    "for col in features:\n",
    "    \n",
    "    sns.boxplot(data=df, x=col,  color='#7C5195', ax=axes[i,j])\n",
    "    axes[i,j].set_title(col)\n",
    "    j += 1\n",
    "    if j == 3:\n",
    "        j = 0\n",
    "        i = 1"
   ]
  },
  {
   "cell_type": "markdown",
   "id": "211c8477",
   "metadata": {
    "papermill": {
     "duration": 0.027596,
     "end_time": "2022-06-15T11:02:56.986966",
     "exception": false,
     "start_time": "2022-06-15T11:02:56.959370",
     "status": "completed"
    },
    "tags": []
   },
   "source": [
    "**Insight:**\n",
    "I would say that we are definitely in presence of outliers. Since the dataset is large enough (53,000 instances), I decided to remove some of these values so that the ML models generalize better.\n",
    "\n",
    "To handle these outliers, I set mininium and maximum values for each feature looking at the scatter plots shown above. \n",
    "* Length: remove values below 2.\n",
    "* Width: remove values above 20.\n",
    "* Depth: remove values equal to zero, and values over 15.\n",
    "* Table: remove values over 90."
   ]
  },
  {
   "cell_type": "code",
   "execution_count": null,
   "id": "87833beb",
   "metadata": {
    "execution": {
     "iopub.execute_input": "2022-06-15T11:02:57.044775Z",
     "iopub.status.busy": "2022-06-15T11:02:57.044091Z",
     "iopub.status.idle": "2022-06-15T11:02:57.058461Z",
     "shell.execute_reply": "2022-06-15T11:02:57.057072Z"
    },
    "papermill": {
     "duration": 0.045692,
     "end_time": "2022-06-15T11:02:57.060631",
     "exception": false,
     "start_time": "2022-06-15T11:02:57.014939",
     "status": "completed"
    },
    "tags": []
   },
   "outputs": [],
   "source": [
    "# DROP OUTLIERS\n",
    "outliers = []\n",
    "# Outliers in length\n",
    "entries = df[df['length']<2].index # There are 8 entries with lenth zero, we are going to delete those observations.\n",
    "outliers.extend(entries)\n",
    "\n",
    "# Outliers in width\n",
    "entries = df[df['width']>20].index\n",
    "outliers.extend(entries)\n",
    "\n",
    "# Outliers in depth\n",
    "entries = df[(df['depth'] == 0) | (df['depth']>15)].index\n",
    "outliers.extend(entries)\n",
    "\n",
    "# Outliers in table\n",
    "entries = df[df['table'] > 90].index\n",
    "outliers.extend(entries)\n",
    "\n",
    "# Drop ouliers altogether\n",
    "df.drop(outliers, axis=0, inplace=True)\n",
    "\n",
    "# Check how many outliers were removed\n",
    "print(f'Outliers removed: {len(outliers)}')"
   ]
  },
  {
   "cell_type": "markdown",
   "id": "62839f7f",
   "metadata": {
    "papermill": {
     "duration": 0.027614,
     "end_time": "2022-06-15T11:02:57.116170",
     "exception": false,
     "start_time": "2022-06-15T11:02:57.088556",
     "status": "completed"
    },
    "tags": []
   },
   "source": [
    "Let's replot the price with respect to the numeric features and see the difference:"
   ]
  },
  {
   "cell_type": "code",
   "execution_count": null,
   "id": "40304ec7",
   "metadata": {
    "execution": {
     "iopub.execute_input": "2022-06-15T11:02:57.172966Z",
     "iopub.status.busy": "2022-06-15T11:02:57.172365Z",
     "iopub.status.idle": "2022-06-15T11:02:58.627019Z",
     "shell.execute_reply": "2022-06-15T11:02:58.626025Z"
    },
    "papermill": {
     "duration": 1.492671,
     "end_time": "2022-06-15T11:02:58.636146",
     "exception": false,
     "start_time": "2022-06-15T11:02:57.143475",
     "status": "completed"
    },
    "tags": []
   },
   "outputs": [],
   "source": [
    "fig, axes = plt.subplots(2, 3, figsize=[25,12])\n",
    "features = ['weight', 'length', 'width', 'depth', '%depth', 'table']\n",
    "fig.suptitle('Price wrt numeric features', fontsize=20)\n",
    "plt.rcParams['axes.titlesize'] = 15\n",
    "\n",
    "i=0\n",
    "j=0\n",
    "\n",
    "for col in features:\n",
    "    \n",
    "    sns.scatterplot(data=df, x=col, y='price',  color='#7C5195', ax=axes[i,j])\n",
    "    axes[i,j].set_title('Price by ' + col)\n",
    "    j += 1\n",
    "    if j == 3:\n",
    "        j = 0\n",
    "        i = 1"
   ]
  },
  {
   "cell_type": "markdown",
   "id": "b6923244",
   "metadata": {
    "papermill": {
     "duration": 0.049584,
     "end_time": "2022-06-15T11:02:58.726685",
     "exception": false,
     "start_time": "2022-06-15T11:02:58.677101",
     "status": "completed"
    },
    "tags": []
   },
   "source": [
    "**Insight:**\n",
    "* The plots look much better. The model will definitely generalize better. \n",
    "* Important: only 32 instances were removed, which accounts for only **0.059%** of the data. "
   ]
  },
  {
   "cell_type": "markdown",
   "id": "ea5a0714",
   "metadata": {
    "papermill": {
     "duration": 0.0421,
     "end_time": "2022-06-15T11:02:58.826836",
     "exception": false,
     "start_time": "2022-06-15T11:02:58.784736",
     "status": "completed"
    },
    "tags": []
   },
   "source": [
    "<span style=\"color:#478979; font-size:22px; font-weight: bold;\"> Prices by weight and different qualities </span>"
   ]
  },
  {
   "cell_type": "markdown",
   "id": "75a35d9c",
   "metadata": {
    "papermill": {
     "duration": 0.039055,
     "end_time": "2022-06-15T11:02:58.905895",
     "exception": false,
     "start_time": "2022-06-15T11:02:58.866840",
     "status": "completed"
    },
    "tags": []
   },
   "source": [
    "Weight is the most correlated feature to price. Then, let's check how price behaves with respect to weight with different diamond qualities:"
   ]
  },
  {
   "cell_type": "code",
   "execution_count": null,
   "id": "13499b2a",
   "metadata": {
    "execution": {
     "iopub.execute_input": "2022-06-15T11:02:58.991815Z",
     "iopub.status.busy": "2022-06-15T11:02:58.990985Z",
     "iopub.status.idle": "2022-06-15T11:02:59.429881Z",
     "shell.execute_reply": "2022-06-15T11:02:59.428946Z"
    },
    "papermill": {
     "duration": 0.488148,
     "end_time": "2022-06-15T11:02:59.437791",
     "exception": false,
     "start_time": "2022-06-15T11:02:58.949643",
     "status": "completed"
    },
    "tags": []
   },
   "outputs": [],
   "source": [
    "colors = ['#4F3EBC', '#CA4CB7', '#2B8639', '#A0C173', '#DA933F']\n",
    "fig = px.scatter(df, x='weight', y='price', color='quality', width=1000, height=500, \n",
    "                 color_discrete_sequence=colors,\n",
    "                 category_orders={'quality':['Ideal', 'Premium', 'Very Good', 'Good', 'Fair']})\n",
    "fig.update_layout(\n",
    "    title=\"Price by weight and quality\",\n",
    "    xaxis_title=\"Weight\",\n",
    "    yaxis_title=\"Price\")\n",
    "fig.show()"
   ]
  },
  {
   "cell_type": "markdown",
   "id": "65739d52",
   "metadata": {
    "papermill": {
     "duration": 0.046917,
     "end_time": "2022-06-15T11:02:59.532178",
     "exception": false,
     "start_time": "2022-06-15T11:02:59.485261",
     "status": "completed"
    },
    "tags": []
   },
   "source": [
    "**Insight:**\n",
    "* The graphic is interactive, feel free to play around with it.\n",
    "* Overall, we can see that for the same value of weight, the price of the diamonds are higher for better qualities.\n",
    "* Such insight makes sense since between two diamons of the same weight, the one with better quality should be more expensive.\n",
    "* However, it is not that straightforward as other variables such 'color', 'clarity' and even the 'sizes' are also taken into account on the diamond's price."
   ]
  },
  {
   "cell_type": "markdown",
   "id": "a8242396",
   "metadata": {
    "papermill": {
     "duration": 0.047957,
     "end_time": "2022-06-15T11:02:59.628785",
     "exception": false,
     "start_time": "2022-06-15T11:02:59.580828",
     "status": "completed"
    },
    "tags": []
   },
   "source": [
    "<span style=\"color:#478979; font-size:22px; font-weight: bold;\"> Prices by weight and different clarities </span>"
   ]
  },
  {
   "cell_type": "code",
   "execution_count": null,
   "id": "f1064574",
   "metadata": {
    "execution": {
     "iopub.execute_input": "2022-06-15T11:02:59.727403Z",
     "iopub.status.busy": "2022-06-15T11:02:59.726934Z",
     "iopub.status.idle": "2022-06-15T11:02:59.937969Z",
     "shell.execute_reply": "2022-06-15T11:02:59.936764Z"
    },
    "papermill": {
     "duration": 0.263828,
     "end_time": "2022-06-15T11:02:59.941409",
     "exception": false,
     "start_time": "2022-06-15T11:02:59.677581",
     "status": "completed"
    },
    "tags": []
   },
   "outputs": [],
   "source": [
    "colors = ['#4F3EBC', '#CA4CB7', '#2B8639', '#A0C173', '#DA933F', '#D7E33E', '#D13F33', '#51524B']\n",
    "fig = px.scatter(df, x='weight', y='price', color='clarity', width=1000, height=500, \n",
    "                 color_discrete_sequence=colors,\n",
    "                 category_orders={'clarity':['I1', 'SI2', 'SI1', 'VS2', 'VS1', 'VVS2', 'VVS1', 'IF'][-1:]},\n",
    "                 title=\"Price by weight and clarity\")\n",
    "fig.update_layout(\n",
    "    xaxis_title=\"Weight\",\n",
    "    yaxis_title=\"Price\")\n",
    "fig.show()"
   ]
  },
  {
   "cell_type": "markdown",
   "id": "3dc15049",
   "metadata": {
    "papermill": {
     "duration": 0.05509,
     "end_time": "2022-06-15T11:03:00.054130",
     "exception": false,
     "start_time": "2022-06-15T11:02:59.999040",
     "status": "completed"
    },
    "tags": []
   },
   "source": [
    "**Insight:**\n",
    "* The better clarity (being IF the best), the more expensive the diamond is."
   ]
  },
  {
   "cell_type": "markdown",
   "id": "06d1af6e",
   "metadata": {
    "papermill": {
     "duration": 0.115215,
     "end_time": "2022-06-15T11:03:00.227584",
     "exception": false,
     "start_time": "2022-06-15T11:03:00.112369",
     "status": "completed"
    },
    "tags": []
   },
   "source": [
    "<span style=\"color:#478979; font-size:22px; font-weight: bold;\"> Prices by weight and different colors </span>"
   ]
  },
  {
   "cell_type": "code",
   "execution_count": null,
   "id": "f0c1d59c",
   "metadata": {
    "execution": {
     "iopub.execute_input": "2022-06-15T11:03:00.343432Z",
     "iopub.status.busy": "2022-06-15T11:03:00.343095Z",
     "iopub.status.idle": "2022-06-15T11:03:00.685121Z",
     "shell.execute_reply": "2022-06-15T11:03:00.684247Z"
    },
    "papermill": {
     "duration": 0.408582,
     "end_time": "2022-06-15T11:03:00.692779",
     "exception": false,
     "start_time": "2022-06-15T11:03:00.284197",
     "status": "completed"
    },
    "tags": []
   },
   "outputs": [],
   "source": [
    "colors = ['#4F3EBC', '#CA4CB7', '#2B8639', '#A0C173', '#DA933F', '#D7E33E', '#D13F33']\n",
    "fig = px.scatter(df, x='weight', y='price', color='color', width=1000, height=500, \n",
    "                 color_discrete_sequence=colors,\n",
    "                 category_orders={'clarity':['I1', 'SI2', 'SI1', 'VS2', 'VS1', 'VVS2', 'VVS1', 'IF'][-1:]},\n",
    "                 title=\"Price by weight and color\")\n",
    "fig.update_layout(\n",
    "    xaxis_title=\"Weight\",\n",
    "    yaxis_title=\"Price\")\n",
    "fig.show()"
   ]
  },
  {
   "cell_type": "markdown",
   "id": "79f6c78f",
   "metadata": {
    "papermill": {
     "duration": 0.062117,
     "end_time": "2022-06-15T11:03:00.820933",
     "exception": false,
     "start_time": "2022-06-15T11:03:00.758816",
     "status": "completed"
    },
    "tags": []
   },
   "source": [
    "**Insight:**\n",
    "* The better color (being E the best), the more costly the diamond is."
   ]
  },
  {
   "cell_type": "markdown",
   "id": "5998e143",
   "metadata": {
    "papermill": {
     "duration": 0.065359,
     "end_time": "2022-06-15T11:03:00.950850",
     "exception": false,
     "start_time": "2022-06-15T11:03:00.885491",
     "status": "completed"
    },
    "tags": []
   },
   "source": [
    "<span style=\"color:#478979; font-size:22px; font-weight: bold;\"> Distribution </span>"
   ]
  },
  {
   "cell_type": "markdown",
   "id": "8d9854f0",
   "metadata": {
    "papermill": {
     "duration": 0.064609,
     "end_time": "2022-06-15T11:03:01.081746",
     "exception": false,
     "start_time": "2022-06-15T11:03:01.017137",
     "status": "completed"
    },
    "tags": []
   },
   "source": [
    "Let's check the distribution and skewness of the target and features:"
   ]
  },
  {
   "cell_type": "code",
   "execution_count": null,
   "id": "b70c9fc2",
   "metadata": {
    "execution": {
     "iopub.execute_input": "2022-06-15T11:03:01.215663Z",
     "iopub.status.busy": "2022-06-15T11:03:01.214660Z",
     "iopub.status.idle": "2022-06-15T11:03:03.847617Z",
     "shell.execute_reply": "2022-06-15T11:03:03.846689Z"
    },
    "papermill": {
     "duration": 2.703682,
     "end_time": "2022-06-15T11:03:03.850296",
     "exception": false,
     "start_time": "2022-06-15T11:03:01.146614",
     "status": "completed"
    },
    "tags": []
   },
   "outputs": [],
   "source": [
    "print('----- SKEWNESS ------------')\n",
    "fig, axes = plt.subplots(1, 5, figsize=[30,6])\n",
    "axes.flatten()\n",
    "fig.suptitle('Distribution', fontsize=20)\n",
    "plt.rcParams['axes.titlesize'] = 15\n",
    "j = 0\n",
    "variables = ['price', 'weight', 'length', 'width', 'depth']\n",
    "\n",
    "\n",
    "for col in variables:\n",
    "    sns.histplot(data=df, x=col, kde=True, ax=axes[j], color='#7C5195')\n",
    "    axes[j].set_title(col)\n",
    "\n",
    "    j+=1\n",
    "    print('{} skewness = {}'.format(col, round(df[col].skew(), 2)))\n",
    "print('---------------------------')"
   ]
  },
  {
   "cell_type": "markdown",
   "id": "a5ee6b84",
   "metadata": {
    "papermill": {
     "duration": 0.065759,
     "end_time": "2022-06-15T11:03:03.985834",
     "exception": false,
     "start_time": "2022-06-15T11:03:03.920075",
     "status": "completed"
    },
    "tags": []
   },
   "source": [
    "**Insights:**\n",
    "* All varaibles are positive skewed. If possible, we need to get those values closer to zero."
   ]
  },
  {
   "cell_type": "markdown",
   "id": "8e802726",
   "metadata": {
    "papermill": {
     "duration": 0.06854,
     "end_time": "2022-06-15T11:03:04.122404",
     "exception": false,
     "start_time": "2022-06-15T11:03:04.053864",
     "status": "completed"
    },
    "tags": []
   },
   "source": [
    "<span style=\"color:#478979; font-size:18px; font-weight: bold;\"> Applying log and boxcox transformations </span>"
   ]
  },
  {
   "cell_type": "markdown",
   "id": "a17f3605",
   "metadata": {
    "papermill": {
     "duration": 0.068443,
     "end_time": "2022-06-15T11:03:04.258959",
     "exception": false,
     "start_time": "2022-06-15T11:03:04.190516",
     "status": "completed"
    },
    "tags": []
   },
   "source": [
    "Different types of transformations were applied to each variable. The best performers were boxcox for price and weight, and logarithmic transformation for the rest."
   ]
  },
  {
   "cell_type": "code",
   "execution_count": null,
   "id": "621e827f",
   "metadata": {
    "execution": {
     "iopub.execute_input": "2022-06-15T11:03:04.398313Z",
     "iopub.status.busy": "2022-06-15T11:03:04.397948Z",
     "iopub.status.idle": "2022-06-15T11:03:06.013362Z",
     "shell.execute_reply": "2022-06-15T11:03:06.012340Z"
    },
    "papermill": {
     "duration": 1.687275,
     "end_time": "2022-06-15T11:03:06.015620",
     "exception": false,
     "start_time": "2022-06-15T11:03:04.328345",
     "status": "completed"
    },
    "tags": []
   },
   "outputs": [],
   "source": [
    "print('----- SKEWNESS WITH TRANSFORMATIONS ---------')\n",
    "\n",
    "weigth_boxcox = stats.boxcox(df['weight'])[0]\n",
    "skew_weight_boxcox = pd.Series(weigth_boxcox).skew()\n",
    "price_boxcox = stats.boxcox(df['price'])[0]\n",
    "skew_price_boxcox = pd.Series(price_boxcox).skew()\n",
    "\n",
    "fig, axes = plt.subplots(1, 5, figsize=[40,7])\n",
    "axes.flatten()\n",
    "\n",
    "sns.histplot(data=pd.Series(price_boxcox), color='#7C5195', ax=axes[0])\n",
    "sns.histplot(data=pd.Series(weigth_boxcox), color='#7C5195', ax=axes[1])\n",
    "\n",
    "j = 2\n",
    "for feature in df.columns[1:4]:\n",
    "    sns.histplot(data=df[feature], color='#7C5195', ax=axes[j])\n",
    "    j += 1\n",
    "    \n",
    "axes[0].set_title('Box-Cox price distribution', size=15)\n",
    "axes[1].set_title('Box-Cox Weight distribution', size=15)\n",
    "axes[2].set_title('Log Length distribution', size=15)\n",
    "axes[3].set_title('Log Width distribution', size=15)\n",
    "axes[4].set_title('Log Depth distribution', size=15)\n",
    "\n",
    "\n",
    "print('Price skewness box cox transformation: {}'.format(round(skew_weight_boxcox,2)))\n",
    "print('Weight skewness box cox transformation: {}'.format(round(skew_price_boxcox,2)))\n",
    "\n",
    "for feature in df.columns[1:4]:\n",
    "    print('{} skewness log transformation: {}'.format(feature, round(np.log1p(df[feature]).skew(),2)))\n",
    "\n",
    "print('-'*45)\n",
    "plt.show()"
   ]
  },
  {
   "cell_type": "markdown",
   "id": "df8a9a47",
   "metadata": {
    "papermill": {
     "duration": 0.144934,
     "end_time": "2022-06-15T11:03:06.229291",
     "exception": false,
     "start_time": "2022-06-15T11:03:06.084357",
     "status": "completed"
    },
    "tags": []
   },
   "source": [
    "**Insight:**\n",
    "* Now, the skweness is much lower for all varialbes. Price and weight are really close to zero. "
   ]
  },
  {
   "cell_type": "markdown",
   "id": "fe5a8ff7",
   "metadata": {
    "papermill": {
     "duration": 0.068688,
     "end_time": "2022-06-15T11:03:06.367724",
     "exception": false,
     "start_time": "2022-06-15T11:03:06.299036",
     "status": "completed"
    },
    "tags": []
   },
   "source": [
    "<span style=\"color:#1D6035; font-size:28px; font-weight: bold;\">  Data Preprocessing </span> "
   ]
  },
  {
   "cell_type": "markdown",
   "id": "e7ca9564",
   "metadata": {
    "papermill": {
     "duration": 0.068134,
     "end_time": "2022-06-15T11:03:06.505015",
     "exception": false,
     "start_time": "2022-06-15T11:03:06.436881",
     "status": "completed"
    },
    "tags": []
   },
   "source": [
    "<span style=\"color:#478979; font-size:18px; font-weight: bold;\"> Reset the index </span>"
   ]
  },
  {
   "cell_type": "code",
   "execution_count": null,
   "id": "7aa13aaf",
   "metadata": {
    "execution": {
     "iopub.execute_input": "2022-06-15T11:03:06.644668Z",
     "iopub.status.busy": "2022-06-15T11:03:06.644019Z",
     "iopub.status.idle": "2022-06-15T11:03:06.647979Z",
     "shell.execute_reply": "2022-06-15T11:03:06.647356Z"
    },
    "papermill": {
     "duration": 0.076131,
     "end_time": "2022-06-15T11:03:06.649574",
     "exception": false,
     "start_time": "2022-06-15T11:03:06.573443",
     "status": "completed"
    },
    "tags": []
   },
   "outputs": [],
   "source": [
    "# We can reset the index because we drop some values, so that we avoid having possible issues later on\n",
    "df.reset_index(drop=True, inplace=True)"
   ]
  },
  {
   "cell_type": "markdown",
   "id": "42c28462",
   "metadata": {
    "papermill": {
     "duration": 0.069185,
     "end_time": "2022-06-15T11:03:06.788533",
     "exception": false,
     "start_time": "2022-06-15T11:03:06.719348",
     "status": "completed"
    },
    "tags": []
   },
   "source": [
    "<span style=\"color:#478979; font-size:22px; font-weight: bold;\">  Let's apply log and boxcox transformation to the data </span>"
   ]
  },
  {
   "cell_type": "code",
   "execution_count": null,
   "id": "7f8105f9",
   "metadata": {
    "execution": {
     "iopub.execute_input": "2022-06-15T11:03:06.928210Z",
     "iopub.status.busy": "2022-06-15T11:03:06.927598Z",
     "iopub.status.idle": "2022-06-15T11:03:07.043369Z",
     "shell.execute_reply": "2022-06-15T11:03:07.042733Z"
    },
    "papermill": {
     "duration": 0.187196,
     "end_time": "2022-06-15T11:03:07.045118",
     "exception": false,
     "start_time": "2022-06-15T11:03:06.857922",
     "status": "completed"
    },
    "tags": []
   },
   "outputs": [],
   "source": [
    "df_t = df.copy()\n",
    "\n",
    "# Let's apply box-cox transformation to target 'price' and feature 'weight'\n",
    "for col in ['price', 'weight']:\n",
    "    new_col = col + '_boxcox'\n",
    "    var_boxcox = stats.boxcox(df_t[col])[0]\n",
    "    boxcox = pd.DataFrame(pd.Series(var_boxcox),\n",
    "                          index=df_t.index,\n",
    "                          columns=[new_col])\n",
    "\n",
    "    df_t = pd.concat([df_t, boxcox], axis=1)\n",
    "    df_t.drop(col, axis=1, inplace=True)\n",
    "\n",
    "# Let's apply log to 'length', 'width', and 'depth'\n",
    "for col in ['length', 'width', 'depth']:\n",
    "    df_t[col] = df_t[col].apply(np.log1p)\n",
    "\n",
    "df_t.head()"
   ]
  },
  {
   "cell_type": "markdown",
   "id": "37284b45",
   "metadata": {
    "papermill": {
     "duration": 0.066625,
     "end_time": "2022-06-15T11:03:07.182229",
     "exception": false,
     "start_time": "2022-06-15T11:03:07.115604",
     "status": "completed"
    },
    "tags": []
   },
   "source": [
    "<span style=\"color:#478979; font-size:18px; font-weight: bold;\"> Removing 'table' and '%depth' from the data </span>"
   ]
  },
  {
   "cell_type": "markdown",
   "id": "a0e863e4",
   "metadata": {
    "papermill": {
     "duration": 0.068624,
     "end_time": "2022-06-15T11:03:07.319173",
     "exception": false,
     "start_time": "2022-06-15T11:03:07.250549",
     "status": "completed"
    },
    "tags": []
   },
   "source": [
    "Let's remove features 'table' and '%depth' as they have a very low correlation with the target 'price':"
   ]
  },
  {
   "cell_type": "code",
   "execution_count": null,
   "id": "eb61e29b",
   "metadata": {
    "execution": {
     "iopub.execute_input": "2022-06-15T11:03:07.460185Z",
     "iopub.status.busy": "2022-06-15T11:03:07.459559Z",
     "iopub.status.idle": "2022-06-15T11:03:07.465887Z",
     "shell.execute_reply": "2022-06-15T11:03:07.464972Z"
    },
    "papermill": {
     "duration": 0.078606,
     "end_time": "2022-06-15T11:03:07.467770",
     "exception": false,
     "start_time": "2022-06-15T11:03:07.389164",
     "status": "completed"
    },
    "tags": []
   },
   "outputs": [],
   "source": [
    "# Dropping 'table and '%depth' variables\n",
    "df_t.drop(['table', '%depth'], axis=1, inplace=True)"
   ]
  },
  {
   "cell_type": "markdown",
   "id": "6a9de8ee",
   "metadata": {
    "papermill": {
     "duration": 0.068882,
     "end_time": "2022-06-15T11:03:07.606486",
     "exception": false,
     "start_time": "2022-06-15T11:03:07.537604",
     "status": "completed"
    },
    "tags": []
   },
   "source": [
    "<span style=\"color:#478979; font-size:18px; font-weight: bold;\"> Changing name and order of columns </span>"
   ]
  },
  {
   "cell_type": "code",
   "execution_count": null,
   "id": "a58cc21e",
   "metadata": {
    "execution": {
     "iopub.execute_input": "2022-06-15T11:03:07.746374Z",
     "iopub.status.busy": "2022-06-15T11:03:07.745782Z",
     "iopub.status.idle": "2022-06-15T11:03:07.762141Z",
     "shell.execute_reply": "2022-06-15T11:03:07.761474Z"
    },
    "papermill": {
     "duration": 0.089225,
     "end_time": "2022-06-15T11:03:07.763838",
     "exception": false,
     "start_time": "2022-06-15T11:03:07.674613",
     "status": "completed"
    },
    "tags": []
   },
   "outputs": [],
   "source": [
    "#Changing the column names\n",
    "col_names = {'price_boxcox': 'price',\n",
    "             'weight_boxcox': 'weight'}\n",
    "\n",
    "df_t.rename(columns=col_names, inplace=True)\n",
    "\n",
    "#Changing the order of the columns\n",
    "df_t = df_t[['weight', 'length', 'width', 'depth', 'quality', 'color', 'clarity', 'price']]\n",
    "df_t.head()"
   ]
  },
  {
   "cell_type": "markdown",
   "id": "2b8908cb",
   "metadata": {
    "papermill": {
     "duration": 0.068173,
     "end_time": "2022-06-15T11:03:07.901903",
     "exception": false,
     "start_time": "2022-06-15T11:03:07.833730",
     "status": "completed"
    },
    "tags": []
   },
   "source": [
    "<span style=\"color:#478979; font-size:22px; font-weight: bold;\">  Encoding </span>"
   ]
  },
  {
   "cell_type": "markdown",
   "id": "2f9ae6b7",
   "metadata": {
    "papermill": {
     "duration": 0.068582,
     "end_time": "2022-06-15T11:03:08.038718",
     "exception": false,
     "start_time": "2022-06-15T11:03:07.970136",
     "status": "completed"
    },
    "tags": []
   },
   "source": [
    "The categorical features need to encoded. I am going to try Ordinal Encoding and One-Hot Encoding and see which one performs better in a simple linear regression model. "
   ]
  },
  {
   "cell_type": "markdown",
   "id": "185c0d97",
   "metadata": {
    "papermill": {
     "duration": 0.069714,
     "end_time": "2022-06-15T11:03:08.179544",
     "exception": false,
     "start_time": "2022-06-15T11:03:08.109830",
     "status": "completed"
    },
    "tags": []
   },
   "source": [
    "<span style=\"color:#478979; font-size:18px; font-weight: bold;\">  Ordinal Encoding </span>"
   ]
  },
  {
   "cell_type": "code",
   "execution_count": null,
   "id": "ad308079",
   "metadata": {
    "execution": {
     "iopub.execute_input": "2022-06-15T11:03:08.321595Z",
     "iopub.status.busy": "2022-06-15T11:03:08.320964Z",
     "iopub.status.idle": "2022-06-15T11:03:08.376890Z",
     "shell.execute_reply": "2022-06-15T11:03:08.376187Z"
    },
    "papermill": {
     "duration": 0.129419,
     "end_time": "2022-06-15T11:03:08.378848",
     "exception": false,
     "start_time": "2022-06-15T11:03:08.249429",
     "status": "completed"
    },
    "tags": []
   },
   "outputs": [],
   "source": [
    "# Lets create a df with ordinal encoding and then another one with OneHotEncoder\n",
    "df_ord_enc = df_t.copy() \n",
    "\n",
    "a = df[['quality', 'color', 'clarity']]\n",
    "\n",
    "enc = OrdinalEncoder(categories=[['Fair', 'Good', 'Very Good', 'Premium', 'Ideal'], ['J', 'I', 'H', 'G', 'F', 'E', 'D'], ['I1', 'SI2', 'SI1', 'VS2', 'VS1', 'VVS2', 'VVS1', 'IF']])\n",
    "new_dat = enc.fit_transform(a)\n",
    "\n",
    "new_df = pd.DataFrame(new_dat, \n",
    "                      index=df_ord_enc.index, \n",
    "                      columns=['quality_enc', 'color_enc', 'clarity_enc'])\n",
    "\n",
    "df_ord_enc = pd.concat([df_ord_enc, new_df], axis=1) \n",
    "\n",
    "df_ord_enc.drop(['quality', 'color', 'clarity'], axis=1, inplace=True)"
   ]
  },
  {
   "cell_type": "markdown",
   "id": "6bbc05bf",
   "metadata": {
    "papermill": {
     "duration": 0.070454,
     "end_time": "2022-06-15T11:03:08.519210",
     "exception": false,
     "start_time": "2022-06-15T11:03:08.448756",
     "status": "completed"
    },
    "tags": []
   },
   "source": [
    "<span style=\"color:#478979; font-size:18px; font-weight: bold;\">  One-Hot Encoding </span>"
   ]
  },
  {
   "cell_type": "code",
   "execution_count": null,
   "id": "b8afc55c",
   "metadata": {
    "execution": {
     "iopub.execute_input": "2022-06-15T11:03:08.660695Z",
     "iopub.status.busy": "2022-06-15T11:03:08.659851Z",
     "iopub.status.idle": "2022-06-15T11:03:08.754088Z",
     "shell.execute_reply": "2022-06-15T11:03:08.753076Z"
    },
    "papermill": {
     "duration": 0.167071,
     "end_time": "2022-06-15T11:03:08.756239",
     "exception": false,
     "start_time": "2022-06-15T11:03:08.589168",
     "status": "completed"
    },
    "tags": []
   },
   "outputs": [],
   "source": [
    "# Now, let's do OneHotEncoder\n",
    "df_oh_enc = df_t.copy()\n",
    "enc = OneHotEncoder(drop='first')\n",
    "\n",
    "for col in df.select_dtypes('object').columns.tolist():\n",
    "    new_dat = enc.fit_transform(df_oh_enc[[col]])\n",
    "    column = df_oh_enc[col].unique().tolist()\n",
    "    new_df = pd.DataFrame(new_dat.toarray(),\n",
    "                          index=df_oh_enc.index,\n",
    "                          columns=column[1:])\n",
    "    \n",
    "    df_onehot_enc = pd.concat([df_oh_enc, new_df], axis=1)\n",
    "\n",
    "df_onehot_enc.drop(df_oh_enc.select_dtypes('object').columns.tolist(), axis=1, inplace=True)"
   ]
  },
  {
   "cell_type": "markdown",
   "id": "11c7bc87",
   "metadata": {
    "papermill": {
     "duration": 0.069102,
     "end_time": "2022-06-15T11:03:08.896327",
     "exception": false,
     "start_time": "2022-06-15T11:03:08.827225",
     "status": "completed"
    },
    "tags": []
   },
   "source": [
    "<span style=\"color:#1D6035; font-size:28px; font-weight: bold;\">  Modeling </span> "
   ]
  },
  {
   "cell_type": "markdown",
   "id": "05fc54ed",
   "metadata": {
    "papermill": {
     "duration": 0.070719,
     "end_time": "2022-06-15T11:03:09.037154",
     "exception": false,
     "start_time": "2022-06-15T11:03:08.966435",
     "status": "completed"
    },
    "tags": []
   },
   "source": [
    "**Important:** I am using cross validation to test the performance of all models. I will select the model with the highest **r2 score with cross validation (5-fold).**"
   ]
  },
  {
   "cell_type": "markdown",
   "id": "f4933827",
   "metadata": {
    "papermill": {
     "duration": 0.072025,
     "end_time": "2022-06-15T11:03:09.179449",
     "exception": false,
     "start_time": "2022-06-15T11:03:09.107424",
     "status": "completed"
    },
    "tags": []
   },
   "source": [
    "<span style=\"color:#1D6035; font-size:22px; font-weight: bold;\">  1. Linear Regression </span> "
   ]
  },
  {
   "cell_type": "markdown",
   "id": "a54e9b2d",
   "metadata": {
    "papermill": {
     "duration": 0.068797,
     "end_time": "2022-06-15T11:03:09.317708",
     "exception": false,
     "start_time": "2022-06-15T11:03:09.248911",
     "status": "completed"
    },
    "tags": []
   },
   "source": [
    "<span style=\"color:#1D6035; font-size:18px; font-weight: bold;\">  Linear regression (One Hot Encoder) </span>"
   ]
  },
  {
   "cell_type": "code",
   "execution_count": null,
   "id": "d81bd553",
   "metadata": {
    "execution": {
     "iopub.execute_input": "2022-06-15T11:03:09.457303Z",
     "iopub.status.busy": "2022-06-15T11:03:09.456608Z",
     "iopub.status.idle": "2022-06-15T11:03:09.842733Z",
     "shell.execute_reply": "2022-06-15T11:03:09.841274Z"
    },
    "papermill": {
     "duration": 0.458659,
     "end_time": "2022-06-15T11:03:09.845564",
     "exception": false,
     "start_time": "2022-06-15T11:03:09.386905",
     "status": "completed"
    },
    "tags": []
   },
   "outputs": [],
   "source": [
    "# Splitting the dataset with one-hot encoding\n",
    "X = df_onehot_enc.drop('price', axis=1)\n",
    "y = df_onehot_enc['price']\n",
    "X_train, X_test, y_train, y_test = train_test_split(X, y, test_size=0.30, random_state=420)\n",
    "\n",
    "\n",
    "# Creating the pipeline\n",
    "s = StandardScaler()\n",
    "lr = LinearRegression()\n",
    "\n",
    "estimator = Pipeline([(\"scaler\", s),\n",
    "                      (\"linear_regression\", lr)])\n",
    "\n",
    "# Cross validation R2 score\n",
    "cv = ShuffleSplit(n_splits=5, test_size=0.30, random_state=42)\n",
    "linear_reg_r2_score = cross_val_score(estimator, X, y, cv=cv, scoring='r2').mean().round(4)\n",
    "print('Cross validation R2 score:', linear_reg_r2_score)"
   ]
  },
  {
   "cell_type": "markdown",
   "id": "4e074bad",
   "metadata": {
    "papermill": {
     "duration": 0.069524,
     "end_time": "2022-06-15T11:03:10.055927",
     "exception": false,
     "start_time": "2022-06-15T11:03:09.986403",
     "status": "completed"
    },
    "tags": []
   },
   "source": [
    "**Cross validation R2 score**: 0.9656"
   ]
  },
  {
   "cell_type": "markdown",
   "id": "80da57d0",
   "metadata": {
    "papermill": {
     "duration": 0.068648,
     "end_time": "2022-06-15T11:03:10.194595",
     "exception": false,
     "start_time": "2022-06-15T11:03:10.125947",
     "status": "completed"
    },
    "tags": []
   },
   "source": [
    "<span style=\"color:#1D6035; font-size:18px; font-weight: bold;\">  Linear regression (Ordinal Encoder) </span> "
   ]
  },
  {
   "cell_type": "code",
   "execution_count": null,
   "id": "fdbb7435",
   "metadata": {
    "execution": {
     "iopub.execute_input": "2022-06-15T11:03:10.334271Z",
     "iopub.status.busy": "2022-06-15T11:03:10.333916Z",
     "iopub.status.idle": "2022-06-15T11:03:10.518946Z",
     "shell.execute_reply": "2022-06-15T11:03:10.517965Z"
    },
    "papermill": {
     "duration": 0.258433,
     "end_time": "2022-06-15T11:03:10.521605",
     "exception": false,
     "start_time": "2022-06-15T11:03:10.263172",
     "status": "completed"
    },
    "tags": []
   },
   "outputs": [],
   "source": [
    "# Splitting the dataset wih ordinal encoding\n",
    "X = df_ord_enc.drop('price', axis=1)\n",
    "y = df_ord_enc['price']\n",
    "X_train, X_test, y_train, y_test = train_test_split(X, y, test_size=0.30, random_state=420)\n",
    "\n",
    "\n",
    "# Creating the pipeline\n",
    "s = StandardScaler()\n",
    "lr = LinearRegression()\n",
    "\n",
    "estimator = Pipeline([(\"scaler\", s),\n",
    "                      (\"linear_regression\", lr)])\n",
    "\n",
    "estimator.fit(X_train, y_train)\n",
    "\n",
    "# Cross validation R2 score\n",
    "cv = ShuffleSplit(n_splits=5, test_size=0.30, random_state=42)\n",
    "linear_reg_r2_score = cross_val_score(estimator, X, y, cv=cv, scoring='r2').mean().round(4)\n",
    "print('Cross validation R2 score:', linear_reg_r2_score)"
   ]
  },
  {
   "cell_type": "markdown",
   "id": "0925034e",
   "metadata": {
    "papermill": {
     "duration": 0.067974,
     "end_time": "2022-06-15T11:03:10.710319",
     "exception": false,
     "start_time": "2022-06-15T11:03:10.642345",
     "status": "completed"
    },
    "tags": []
   },
   "source": [
    "**Cross validation R2 score**: 0.9796"
   ]
  },
  {
   "cell_type": "markdown",
   "id": "13562a67",
   "metadata": {
    "papermill": {
     "duration": 0.068761,
     "end_time": "2022-06-15T11:03:10.849133",
     "exception": false,
     "start_time": "2022-06-15T11:03:10.780372",
     "status": "completed"
    },
    "tags": []
   },
   "source": [
    "**Insights:**\n",
    "* Ordinal encoding shows better results than One-Hot encoding, with a cross validation R2 score of **0.9796** and **0.9656**, respectively.\n",
    "* Therefore, from now we are going to use only Ordinal Encoder for the rest of the models.\n",
    "\n",
    "\n",
    "So, let's split the data once again:"
   ]
  },
  {
   "cell_type": "code",
   "execution_count": null,
   "id": "f95d4ef6",
   "metadata": {
    "execution": {
     "iopub.execute_input": "2022-06-15T11:03:10.989237Z",
     "iopub.status.busy": "2022-06-15T11:03:10.988882Z",
     "iopub.status.idle": "2022-06-15T11:03:11.005991Z",
     "shell.execute_reply": "2022-06-15T11:03:11.005258Z"
    },
    "papermill": {
     "duration": 0.08955,
     "end_time": "2022-06-15T11:03:11.007842",
     "exception": false,
     "start_time": "2022-06-15T11:03:10.918292",
     "status": "completed"
    },
    "tags": []
   },
   "outputs": [],
   "source": [
    "X = df_ord_enc.drop('price', axis=1)\n",
    "y = df_ord_enc['price']\n",
    "X_train, X_test, y_train, y_test = train_test_split(X, y, test_size=0.30, random_state=420)\n",
    "\n",
    "X_train.shape, X_test.shape, y_train.shape, y_test.shape"
   ]
  },
  {
   "cell_type": "markdown",
   "id": "c83df7e6",
   "metadata": {
    "papermill": {
     "duration": 0.581513,
     "end_time": "2022-06-15T11:03:11.658688",
     "exception": false,
     "start_time": "2022-06-15T11:03:11.077175",
     "status": "completed"
    },
    "tags": []
   },
   "source": [
    "<span style=\"color:#1D6035; font-size:22px; font-weight: bold;\">  2. Polynomial Regression </span> "
   ]
  },
  {
   "cell_type": "markdown",
   "id": "93752ff9",
   "metadata": {
    "papermill": {
     "duration": 0.070989,
     "end_time": "2022-06-15T11:03:11.797184",
     "exception": false,
     "start_time": "2022-06-15T11:03:11.726195",
     "status": "completed"
    },
    "tags": []
   },
   "source": [
    "Let's do a grid search to find the best performing degree:"
   ]
  },
  {
   "cell_type": "markdown",
   "id": "c4bc3c6e",
   "metadata": {
    "papermill": {
     "duration": 0.070415,
     "end_time": "2022-06-15T11:03:11.937621",
     "exception": false,
     "start_time": "2022-06-15T11:03:11.867206",
     "status": "completed"
    },
    "tags": []
   },
   "source": [
    "<span style=\"color:#1D6035; font-size:18px; font-weight: bold;\">  Grid Search </span> "
   ]
  },
  {
   "cell_type": "code",
   "execution_count": null,
   "id": "394f7f2a",
   "metadata": {
    "execution": {
     "iopub.execute_input": "2022-06-15T11:03:12.081944Z",
     "iopub.status.busy": "2022-06-15T11:03:12.080521Z",
     "iopub.status.idle": "2022-06-15T11:03:14.488359Z",
     "shell.execute_reply": "2022-06-15T11:03:14.486939Z"
    },
    "papermill": {
     "duration": 2.48475,
     "end_time": "2022-06-15T11:03:14.492179",
     "exception": false,
     "start_time": "2022-06-15T11:03:12.007429",
     "status": "completed"
    },
    "tags": []
   },
   "outputs": [],
   "source": [
    "PolyF = PolynomialFeatures(include_bias=False)\n",
    "s = StandardScaler()\n",
    "lr = LinearRegression()\n",
    "\n",
    "# Creating pipeline\n",
    "pipeline = Pipeline(\n",
    "    [('PolyFeatures', PolyF),\n",
    "     ('scaler', s),\n",
    "     ('LinearRegression', lr)]\n",
    ")\n",
    "\n",
    "param_grid = {'PolyFeatures__degree': np.arange(2,4)}\n",
    "\n",
    "poly_reg = GridSearchCV(pipeline, param_grid, cv=3, n_jobs=-1)\n",
    "poly_reg.fit(X_train, y_train)\n",
    "\n",
    "print('The best performing degree is:', poly_reg.best_params_)"
   ]
  },
  {
   "cell_type": "markdown",
   "id": "023e4787",
   "metadata": {
    "papermill": {
     "duration": 0.068198,
     "end_time": "2022-06-15T11:03:14.685717",
     "exception": false,
     "start_time": "2022-06-15T11:03:14.617519",
     "status": "completed"
    },
    "tags": []
   },
   "source": [
    "**Insight:**\n",
    "* The best degree to use is 2.\n"
   ]
  },
  {
   "cell_type": "markdown",
   "id": "a4a2c907",
   "metadata": {
    "papermill": {
     "duration": 0.069097,
     "end_time": "2022-06-15T11:03:14.823773",
     "exception": false,
     "start_time": "2022-06-15T11:03:14.754676",
     "status": "completed"
    },
    "tags": []
   },
   "source": [
    "<span style=\"color:#1D6035; font-size:18px; font-weight: bold;\">  Score </span> "
   ]
  },
  {
   "cell_type": "code",
   "execution_count": null,
   "id": "f9110be6",
   "metadata": {
    "execution": {
     "iopub.execute_input": "2022-06-15T11:03:14.963512Z",
     "iopub.status.busy": "2022-06-15T11:03:14.962969Z",
     "iopub.status.idle": "2022-06-15T11:03:19.683726Z",
     "shell.execute_reply": "2022-06-15T11:03:19.680941Z"
    },
    "papermill": {
     "duration": 4.794834,
     "end_time": "2022-06-15T11:03:19.687477",
     "exception": false,
     "start_time": "2022-06-15T11:03:14.892643",
     "status": "completed"
    },
    "tags": []
   },
   "outputs": [],
   "source": [
    "# Cross validation R2 score\n",
    "cv = ShuffleSplit(n_splits=5, test_size=0.30, random_state=42)\n",
    "poly_reg_r2_score = cross_val_score(poly_reg, X, y, cv=cv, scoring='r2').mean().round(4)\n",
    "print('Cross validation R2 score:', poly_reg_r2_score)"
   ]
  },
  {
   "cell_type": "markdown",
   "id": "0f76e508",
   "metadata": {
    "papermill": {
     "duration": 0.069658,
     "end_time": "2022-06-15T11:03:19.894321",
     "exception": false,
     "start_time": "2022-06-15T11:03:19.824663",
     "status": "completed"
    },
    "tags": []
   },
   "source": [
    "**Cross validation R2 score:** 0.9829"
   ]
  },
  {
   "cell_type": "markdown",
   "id": "a5fb5ab9",
   "metadata": {
    "papermill": {
     "duration": 0.069663,
     "end_time": "2022-06-15T11:03:20.033627",
     "exception": false,
     "start_time": "2022-06-15T11:03:19.963964",
     "status": "completed"
    },
    "tags": []
   },
   "source": [
    "<span style=\"color:#1D6035; font-size:18px; font-weight: bold;\">  Train final Polynomial Regression model (degree=2) </span>"
   ]
  },
  {
   "cell_type": "markdown",
   "id": "456f47fb",
   "metadata": {
    "papermill": {
     "duration": 0.076741,
     "end_time": "2022-06-15T11:03:20.182843",
     "exception": false,
     "start_time": "2022-06-15T11:03:20.106102",
     "status": "completed"
    },
    "tags": []
   },
   "source": [
    "Let's train the model and check the coefficients for each feature in the polynomial regression:"
   ]
  },
  {
   "cell_type": "code",
   "execution_count": null,
   "id": "1c7e0d8b",
   "metadata": {
    "execution": {
     "iopub.execute_input": "2022-06-15T11:03:20.324243Z",
     "iopub.status.busy": "2022-06-15T11:03:20.323866Z",
     "iopub.status.idle": "2022-06-15T11:03:20.430425Z",
     "shell.execute_reply": "2022-06-15T11:03:20.429389Z"
    },
    "papermill": {
     "duration": 0.180164,
     "end_time": "2022-06-15T11:03:20.433271",
     "exception": false,
     "start_time": "2022-06-15T11:03:20.253107",
     "status": "completed"
    },
    "tags": []
   },
   "outputs": [],
   "source": [
    "# Creating pipeline\n",
    "PolyF = PolynomialFeatures(degree=2, include_bias=False)\n",
    "\n",
    "estimator = Pipeline(\n",
    "    [('PolyFeatures', PolyF),\n",
    "     ('scaler', s),\n",
    "     ('LinearRegression', lr)]\n",
    ")\n",
    "\n",
    "poly_reg = estimator.fit(X_train, y_train)\n",
    "\n",
    "# Finding the coefficients\n",
    "features = poly_reg.named_steps['PolyFeatures'].get_feature_names_out()\n",
    "features_df = pd.DataFrame()\n",
    "features_df['Features'] = features\n",
    "coef = poly_reg.named_steps['LinearRegression'].coef_.ravel()\n",
    "features_df['Coefficients'] = coef.round(2)\n",
    "\n",
    "print(features_df.sort_values(by='Coefficients', ascending=False).head(5))\n",
    "print()\n",
    "print(features_df.sort_values(by='Coefficients', ascending=False).tail(5))"
   ]
  },
  {
   "cell_type": "markdown",
   "id": "b985225f",
   "metadata": {
    "papermill": {
     "duration": 0.07312,
     "end_time": "2022-06-15T11:03:20.636658",
     "exception": false,
     "start_time": "2022-06-15T11:03:20.563538",
     "status": "completed"
    },
    "tags": []
   },
   "source": [
    "**Insight:**\n",
    "* From the table above we can check the most important features for the Polynomal Regression model.\n",
    "* weight*width feature has the highest positive coefficient.\n",
    "* length*width feature has the highest negative coefficient."
   ]
  },
  {
   "cell_type": "markdown",
   "id": "ff1aa70f",
   "metadata": {
    "papermill": {
     "duration": 0.06923,
     "end_time": "2022-06-15T11:03:20.776273",
     "exception": false,
     "start_time": "2022-06-15T11:03:20.707043",
     "status": "completed"
    },
    "tags": []
   },
   "source": [
    "<span style=\"color:#1D6035; font-size:22px; font-weight: bold;\">  REGULARIZATION </span> "
   ]
  },
  {
   "cell_type": "markdown",
   "id": "9cd8ba26",
   "metadata": {
    "papermill": {
     "duration": 0.069255,
     "end_time": "2022-06-15T11:03:20.916097",
     "exception": false,
     "start_time": "2022-06-15T11:03:20.846842",
     "status": "completed"
    },
    "tags": []
   },
   "source": [
    "<span style=\"color:#1D6035; font-size:22px; font-weight: bold;\">  3. Ridge Regression </span> "
   ]
  },
  {
   "cell_type": "markdown",
   "id": "77028a5c",
   "metadata": {
    "papermill": {
     "duration": 0.073621,
     "end_time": "2022-06-15T11:03:21.064397",
     "exception": false,
     "start_time": "2022-06-15T11:03:20.990776",
     "status": "completed"
    },
    "tags": []
   },
   "source": [
    "Let's regularize the see if we can generalize it better. First, I am using Ridge regularization with Randomized Search:"
   ]
  },
  {
   "cell_type": "markdown",
   "id": "26116549",
   "metadata": {
    "papermill": {
     "duration": 0.069719,
     "end_time": "2022-06-15T11:03:21.206138",
     "exception": false,
     "start_time": "2022-06-15T11:03:21.136419",
     "status": "completed"
    },
    "tags": []
   },
   "source": [
    "<span style=\"color:#1D6035; font-size:18px; font-weight: bold;\">  Randomized Search </span> "
   ]
  },
  {
   "cell_type": "code",
   "execution_count": null,
   "id": "36b061fa",
   "metadata": {
    "execution": {
     "iopub.execute_input": "2022-06-15T11:03:21.348403Z",
     "iopub.status.busy": "2022-06-15T11:03:21.348017Z",
     "iopub.status.idle": "2022-06-15T11:03:36.479895Z",
     "shell.execute_reply": "2022-06-15T11:03:36.478651Z"
    },
    "papermill": {
     "duration": 15.211679,
     "end_time": "2022-06-15T11:03:36.487765",
     "exception": false,
     "start_time": "2022-06-15T11:03:21.276086",
     "status": "completed"
    },
    "tags": []
   },
   "outputs": [],
   "source": [
    "# Creating pipeline\n",
    "PolyF = PolynomialFeatures(include_bias=False)\n",
    "s = StandardScaler()\n",
    "ridge = Ridge(random_state=42)\n",
    "\n",
    "estimator = Pipeline(\n",
    "    [('PolyFeatures', PolyF),\n",
    "     ('scaler', s),\n",
    "     ('Ridge', ridge)]\n",
    ")\n",
    "\n",
    "alpha = [0.001, 0.1, 1]\n",
    "degrees = [2, 3, 4]\n",
    "param_grid = [{'Ridge__alpha': alpha,\n",
    "              'PolyFeatures__degree': degrees}]\n",
    "\n",
    "random_search = RandomizedSearchCV(estimator, param_grid, scoring='r2', cv=3,\n",
    "                                   n_iter=5, random_state=42, n_jobs=-1)\n",
    "\n",
    "ridge_reg = random_search.fit(X_train, y_train)\n",
    "\n",
    "# Best hyperparameters\n",
    "print('The best hyperparameters are:', ridge_reg.best_params_)\n",
    "\n",
    "# Cross validation R2 score\n",
    "cv = ShuffleSplit(n_splits=5, test_size=0.30, random_state=42)\n",
    "ridge_reg_r2_score = cross_val_score(ridge_reg, X, y, cv=cv, scoring='r2').mean().round(4)\n",
    "print('Cross validation R2 score:', ridge_reg_r2_score)"
   ]
  },
  {
   "cell_type": "markdown",
   "id": "f379ccfe",
   "metadata": {
    "papermill": {
     "duration": 0.163874,
     "end_time": "2022-06-15T11:03:36.861288",
     "exception": false,
     "start_time": "2022-06-15T11:03:36.697414",
     "status": "completed"
    },
    "tags": []
   },
   "source": [
    "**Cross validation R2 score:** 0.9888"
   ]
  },
  {
   "cell_type": "markdown",
   "id": "8c12feae",
   "metadata": {
    "papermill": {
     "duration": 0.151094,
     "end_time": "2022-06-15T11:03:37.158271",
     "exception": false,
     "start_time": "2022-06-15T11:03:37.007177",
     "status": "completed"
    },
    "tags": []
   },
   "source": [
    "<span style=\"color:#1D6035; font-size:18px; font-weight: bold;\">  Grid Search </span> "
   ]
  },
  {
   "cell_type": "code",
   "execution_count": null,
   "id": "c28d0cb2",
   "metadata": {
    "execution": {
     "iopub.execute_input": "2022-06-15T11:03:37.454371Z",
     "iopub.status.busy": "2022-06-15T11:03:37.454007Z",
     "iopub.status.idle": "2022-06-15T11:03:56.580707Z",
     "shell.execute_reply": "2022-06-15T11:03:56.578186Z"
    },
    "papermill": {
     "duration": 19.279204,
     "end_time": "2022-06-15T11:03:56.584752",
     "exception": false,
     "start_time": "2022-06-15T11:03:37.305548",
     "status": "completed"
    },
    "tags": []
   },
   "outputs": [],
   "source": [
    "PolyF = PolynomialFeatures(degree=4, include_bias=False)\n",
    "s = StandardScaler()\n",
    "ridge = Ridge(random_state=42)\n",
    "\n",
    "estimator = Pipeline(\n",
    "    [('PolyFeatures', PolyF),\n",
    "     ('scaler', s),\n",
    "     ('Ridge', ridge)]\n",
    ")\n",
    "\n",
    "alpha = [0.05, 0.15, 0.2]\n",
    "\n",
    "param_grid = {'Ridge__alpha': alpha}\n",
    "\n",
    "ridge_reg = GridSearchCV(estimator, param_grid, cv=3, n_jobs=-1, scoring='r2')\n",
    "ridge_reg = ridge_reg.fit(X_train, y_train)\n",
    "\n",
    "# Best hyperparameters\n",
    "print('The best hyperparameters are:', ridge_reg.best_params_)\n",
    "\n",
    "# Cross validation R2 score\n",
    "cv = ShuffleSplit(n_splits=5, test_size=0.30, random_state=42)\n",
    "ridge_reg_r2_score = cross_val_score(ridge_reg, X, y, cv=cv, scoring='r2').mean().round(4)\n",
    "print('Cross validation R2 score:', ridge_reg_r2_score)"
   ]
  },
  {
   "cell_type": "markdown",
   "id": "752733d4",
   "metadata": {
    "papermill": {
     "duration": 0.070775,
     "end_time": "2022-06-15T11:03:56.787580",
     "exception": false,
     "start_time": "2022-06-15T11:03:56.716805",
     "status": "completed"
    },
    "tags": []
   },
   "source": [
    "**Cross validation R2 score:** 0.9889"
   ]
  },
  {
   "cell_type": "markdown",
   "id": "1daad7f5",
   "metadata": {
    "papermill": {
     "duration": 0.072375,
     "end_time": "2022-06-15T11:03:56.934026",
     "exception": false,
     "start_time": "2022-06-15T11:03:56.861651",
     "status": "completed"
    },
    "tags": []
   },
   "source": [
    "<span style=\"color:#1D6035; font-size:18px; font-weight: bold;\">  Train final Ridge Regression model (degree=4, alpha=0.05) </span>"
   ]
  },
  {
   "cell_type": "code",
   "execution_count": null,
   "id": "23cb1de4",
   "metadata": {
    "execution": {
     "iopub.execute_input": "2022-06-15T11:03:57.083046Z",
     "iopub.status.busy": "2022-06-15T11:03:57.082627Z",
     "iopub.status.idle": "2022-06-15T11:03:57.669975Z",
     "shell.execute_reply": "2022-06-15T11:03:57.668719Z"
    },
    "papermill": {
     "duration": 0.665457,
     "end_time": "2022-06-15T11:03:57.673404",
     "exception": false,
     "start_time": "2022-06-15T11:03:57.007947",
     "status": "completed"
    },
    "tags": []
   },
   "outputs": [],
   "source": [
    "# Creating pipeline\n",
    "PolyF = PolynomialFeatures(degree=4, include_bias=False)\n",
    "ridge = Ridge(alpha=0.05, random_state=42)\n",
    "\n",
    "estimator = Pipeline(\n",
    "    [('PolyFeatures', PolyF),\n",
    "     ('scaler', s),\n",
    "     ('Ridge', ridge)]\n",
    ")\n",
    "\n",
    "rige_reg = estimator.fit(X_train, y_train)\n",
    "\n",
    "# Finding the coefficients\n",
    "coef_df = pd.DataFrame()\n",
    "coef_df['Feature'] = rige_reg.named_steps['PolyFeatures'].get_feature_names_out()\n",
    "coef_df['Coef'] = rige_reg.named_steps['Ridge'].coef_\n",
    "\n",
    "print(coef_df.sort_values(by='Coef', ascending=False).head(5))\n",
    "print()\n",
    "print(coef_df.sort_values(by='Coef', ascending=False).tail(5))"
   ]
  },
  {
   "cell_type": "markdown",
   "id": "e8eddeb9",
   "metadata": {
    "papermill": {
     "duration": 0.071418,
     "end_time": "2022-06-15T11:03:57.863582",
     "exception": false,
     "start_time": "2022-06-15T11:03:57.792164",
     "status": "completed"
    },
    "tags": []
   },
   "source": [
    "**Insight:**\n",
    "* From the table above we can check the most important features for the Ridge Regression model.\n",
    "* weight^2*length^2 feature has the highest positive coefficient.\n",
    "* weight*width*color*clarity feature has the highest negative coefficient.\n",
    "* We can also check how the coefficients are much lower than those of the Polynomial Regression. Hence, Ridge did a good job at regularizing, and we even obtained a better r2 score: **0.9889**"
   ]
  },
  {
   "cell_type": "markdown",
   "id": "5652afc5",
   "metadata": {
    "papermill": {
     "duration": 0.073174,
     "end_time": "2022-06-15T11:03:58.011066",
     "exception": false,
     "start_time": "2022-06-15T11:03:57.937892",
     "status": "completed"
    },
    "tags": []
   },
   "source": [
    "<span style=\"color:#1D6035; font-size:22px; font-weight: bold;\">  4. Lasso Regression </span> "
   ]
  },
  {
   "cell_type": "markdown",
   "id": "94e16f7c",
   "metadata": {
    "papermill": {
     "duration": 0.072503,
     "end_time": "2022-06-15T11:03:58.156496",
     "exception": false,
     "start_time": "2022-06-15T11:03:58.083993",
     "status": "completed"
    },
    "tags": []
   },
   "source": [
    "Now, let's use Lasso regularization. Since this algorithm uses grading descent, it takes much more time to run. Hence, I did a randomized search which  is  included in this notebook but not run.\n",
    "However, the best hyperparamenters found were:\n",
    "* Degree = 3\n",
    "* Alpha = 0.0001"
   ]
  },
  {
   "cell_type": "code",
   "execution_count": null,
   "id": "e01bce6a",
   "metadata": {
    "execution": {
     "iopub.execute_input": "2022-06-15T11:03:58.301318Z",
     "iopub.status.busy": "2022-06-15T11:03:58.300948Z",
     "iopub.status.idle": "2022-06-15T11:03:58.305530Z",
     "shell.execute_reply": "2022-06-15T11:03:58.304552Z"
    },
    "papermill": {
     "duration": 0.079044,
     "end_time": "2022-06-15T11:03:58.307445",
     "exception": false,
     "start_time": "2022-06-15T11:03:58.228401",
     "status": "completed"
    },
    "tags": []
   },
   "outputs": [],
   "source": [
    "# from sklearn.linear_model import Lasso\n",
    "\n",
    "# alpha = [0.0001, 0.001, 0.01, 0.1]\n",
    "# degrees = np.arange(2,6)\n",
    "\n",
    "# PolyF = PolynomialFeatures(include_bias=False)\n",
    "# s = StandardScaler()\n",
    "# lasso = Lasso(max_iter=10e5)\n",
    "\n",
    "# estimator = Pipeline(\n",
    "#     [('PolyFeatures', PolyF),\n",
    "#      ('scaler', s),\n",
    "#      ('Lasso', lasso)]\n",
    "# )\n",
    "\n",
    "# param_grid = [{'Lasso__alpha': alpha,\n",
    "#               'PolyFeatures__degree': degrees}]\n",
    "\n",
    "\n",
    "# random_search = RandomizedSearchCV(estimator, param_grid, scoring='r2', cv=3,\n",
    "#                                    n_iter=5, random_state=42, n_jobs=-1)\n",
    "\n",
    "# lasso_reg = random_search.fit(X_train, y_train)\n",
    "\n",
    "# # Best hyperparameters\n",
    "# print('The best hyperparameters are:', lasso_reg.best_params_)\n",
    "\n",
    "# # Cross validation R2 score\n",
    "# cv = ShuffleSplit(n_splits=5, test_size=0.30, random_state=42)\n",
    "# lasso_reg_r2_score = cross_val_score(lasso_reg, X, y, cv=cv, scoring='r2').mean().round(4)\n",
    "# print('Cross validation R2 score:', lasso_reg_r2_score)"
   ]
  },
  {
   "cell_type": "markdown",
   "id": "b46e1617",
   "metadata": {
    "papermill": {
     "duration": 0.073326,
     "end_time": "2022-06-15T11:03:58.454001",
     "exception": false,
     "start_time": "2022-06-15T11:03:58.380675",
     "status": "completed"
    },
    "tags": []
   },
   "source": [
    "<span style=\"color:#1D6035; font-size:18px; font-weight: bold;\">  Train final Lasso Regression model (degree=3, alpha=0.0001) </span>"
   ]
  },
  {
   "cell_type": "code",
   "execution_count": null,
   "id": "d0892a21",
   "metadata": {
    "execution": {
     "iopub.execute_input": "2022-06-15T11:03:58.603123Z",
     "iopub.status.busy": "2022-06-15T11:03:58.602705Z",
     "iopub.status.idle": "2022-06-15T11:08:58.163970Z",
     "shell.execute_reply": "2022-06-15T11:08:58.162890Z"
    },
    "papermill": {
     "duration": 299.773992,
     "end_time": "2022-06-15T11:08:58.301992",
     "exception": false,
     "start_time": "2022-06-15T11:03:58.528000",
     "status": "completed"
    },
    "tags": []
   },
   "outputs": [],
   "source": [
    "# Creating pipeline\n",
    "PolyF = PolynomialFeatures(degree=3, include_bias=False)\n",
    "s = StandardScaler()\n",
    "lasso = Lasso(alpha=0.0001, max_iter=10e5, random_state=42)\n",
    "\n",
    "estimator = Pipeline(\n",
    "    [('PolyFeatures', PolyF),\n",
    "     ('scaler', s),\n",
    "     ('Lasso', lasso)]\n",
    ")\n",
    "\n",
    "param_grid = {'Lasso__alpha': alpha}\n",
    "\n",
    "lasso_reg = estimator.fit(X_train, y_train)\n",
    "\n",
    "# Cross validation R2 score\n",
    "cv = ShuffleSplit(n_splits=5, test_size=0.30, random_state=42)\n",
    "lasso_reg_r2_score = cross_val_score(lasso_reg, X, y, cv=cv, scoring='r2').mean().round(4)\n",
    "print('Cross validation R2 score:', lasso_reg_r2_score)"
   ]
  },
  {
   "cell_type": "markdown",
   "id": "1022eed3",
   "metadata": {
    "papermill": {
     "duration": 0.071862,
     "end_time": "2022-06-15T11:08:58.446466",
     "exception": false,
     "start_time": "2022-06-15T11:08:58.374604",
     "status": "completed"
    },
    "tags": []
   },
   "source": [
    "**Cross validation R2 score:** 0.9858"
   ]
  },
  {
   "cell_type": "code",
   "execution_count": null,
   "id": "d08b1a1a",
   "metadata": {
    "execution": {
     "iopub.execute_input": "2022-06-15T11:08:58.718146Z",
     "iopub.status.busy": "2022-06-15T11:08:58.717701Z",
     "iopub.status.idle": "2022-06-15T11:08:58.731428Z",
     "shell.execute_reply": "2022-06-15T11:08:58.730795Z"
    },
    "papermill": {
     "duration": 0.092534,
     "end_time": "2022-06-15T11:08:58.733426",
     "exception": false,
     "start_time": "2022-06-15T11:08:58.640892",
     "status": "completed"
    },
    "tags": []
   },
   "outputs": [],
   "source": [
    "# Finding the coefficients\n",
    "coef_df = pd.DataFrame()\n",
    "coef_df['Feature'] = lasso_reg.named_steps['PolyFeatures'].get_feature_names_out()\n",
    "coef_df['Coef'] = lasso_reg.named_steps['Lasso'].coef_\n",
    "\n",
    "print(coef_df.sort_values(by='Coef', ascending=False).head(5))\n",
    "print()\n",
    "print(coef_df.sort_values(by='Coef', ascending=False).tail(5))"
   ]
  },
  {
   "cell_type": "markdown",
   "id": "faab78ea",
   "metadata": {
    "papermill": {
     "duration": 0.0738,
     "end_time": "2022-06-15T11:08:58.880490",
     "exception": false,
     "start_time": "2022-06-15T11:08:58.806690",
     "status": "completed"
    },
    "tags": []
   },
   "source": [
    "<span style=\"color:#1D6035; font-size:22px; font-weight: bold;\">  5. CatBoost Regressor </span> "
   ]
  },
  {
   "cell_type": "markdown",
   "id": "358a6fe7",
   "metadata": {
    "papermill": {
     "duration": 0.073547,
     "end_time": "2022-06-15T11:08:59.029833",
     "exception": false,
     "start_time": "2022-06-15T11:08:58.956286",
     "status": "completed"
    },
    "tags": []
   },
   "source": [
    "Lastly, let's train a CatBoost Regressor model:"
   ]
  },
  {
   "cell_type": "code",
   "execution_count": null,
   "id": "aa25ad9a",
   "metadata": {
    "execution": {
     "iopub.execute_input": "2022-06-15T11:08:59.179816Z",
     "iopub.status.busy": "2022-06-15T11:08:59.179384Z",
     "iopub.status.idle": "2022-06-15T11:10:26.949377Z",
     "shell.execute_reply": "2022-06-15T11:10:26.948256Z"
    },
    "papermill": {
     "duration": 87.929994,
     "end_time": "2022-06-15T11:10:27.032553",
     "exception": false,
     "start_time": "2022-06-15T11:08:59.102559",
     "status": "completed"
    },
    "tags": []
   },
   "outputs": [],
   "source": [
    "# CatBoost Regression\n",
    "cat_reg = CatBoostRegressor(iterations=3500,\n",
    "                            random_state=42,\n",
    "                            verbose=False\n",
    ")\n",
    "\n",
    "\n",
    "cat_reg.fit(X_train, y_train, \n",
    "            eval_set=(X_test, y_test),\n",
    "            use_best_model=True,\n",
    "            verbose=False\n",
    ")\n",
    "\n",
    "print('CatBoost model is fitted: ' + str(cat_reg.is_fitted()))\n",
    "print('CatBoost model parameters:')\n",
    "print(cat_reg.get_params())\n",
    "\n",
    "# Cross validation R2 score\n",
    "cv = ShuffleSplit(n_splits=5, test_size=0.30, random_state=42)\n",
    "cat_reg_r2_score = cross_val_score(cat_reg, X, y, cv=cv, scoring='r2').mean().round(4)\n",
    "print('Cross validation R2 score:', cat_reg_r2_score)"
   ]
  },
  {
   "cell_type": "markdown",
   "id": "3447454f",
   "metadata": {
    "papermill": {
     "duration": 0.072003,
     "end_time": "2022-06-15T11:10:27.175024",
     "exception": false,
     "start_time": "2022-06-15T11:10:27.103021",
     "status": "completed"
    },
    "tags": []
   },
   "source": [
    "**Insight**:\n",
    "* We achieved by far the best r2 score: **0.9929**. Of course, using cross validation."
   ]
  },
  {
   "cell_type": "markdown",
   "id": "22965d7b",
   "metadata": {
    "papermill": {
     "duration": 0.07152,
     "end_time": "2022-06-15T11:10:27.318383",
     "exception": false,
     "start_time": "2022-06-15T11:10:27.246863",
     "status": "completed"
    },
    "tags": []
   },
   "source": [
    "<span style=\"color:#1D6035; font-size:22px; font-weight: bold;\">  Summary </span> "
   ]
  },
  {
   "cell_type": "markdown",
   "id": "9fdbf56f",
   "metadata": {
    "papermill": {
     "duration": 0.070614,
     "end_time": "2022-06-15T11:10:27.461394",
     "exception": false,
     "start_time": "2022-06-15T11:10:27.390780",
     "status": "completed"
    },
    "tags": []
   },
   "source": [
    "Summary of the models and their r2 scores using cross validation:"
   ]
  },
  {
   "cell_type": "code",
   "execution_count": null,
   "id": "941cc5eb",
   "metadata": {
    "execution": {
     "iopub.execute_input": "2022-06-15T11:10:27.605846Z",
     "iopub.status.busy": "2022-06-15T11:10:27.605440Z",
     "iopub.status.idle": "2022-06-15T11:10:27.620038Z",
     "shell.execute_reply": "2022-06-15T11:10:27.619157Z"
    },
    "papermill": {
     "duration": 0.089321,
     "end_time": "2022-06-15T11:10:27.621683",
     "exception": false,
     "start_time": "2022-06-15T11:10:27.532362",
     "status": "completed"
    },
    "tags": []
   },
   "outputs": [],
   "source": [
    "scores = [linear_reg_r2_score, poly_reg_r2_score, ridge_reg_r2_score, lasso_reg_r2_score, cat_reg_r2_score]\n",
    "models = ['Linear Regression', 'Polynomial Regression', 'Ridge Regression', 'Lasso Regression', 'CatBoost Regression']\n",
    "\n",
    "df_scores = pd.DataFrame(data=scores, columns=['r2 score'])\n",
    "df_models = pd.DataFrame(data=models, columns=['Model'])\n",
    "df_scores = pd.concat([df_models, df_scores], axis=1)\n",
    "df_scores.sort_values(by='r2 score', ascending=False).reset_index(drop=True)"
   ]
  },
  {
   "cell_type": "markdown",
   "id": "b16e9d47",
   "metadata": {
    "papermill": {
     "duration": 0.06857,
     "end_time": "2022-06-15T11:10:27.763392",
     "exception": false,
     "start_time": "2022-06-15T11:10:27.694822",
     "status": "completed"
    },
    "tags": []
   },
   "source": [
    "**Conclusion**:\n",
    "* The best model was definitely CatBoost regression, achieving an incredible **99.29% r2 score with cross validation!!!** "
   ]
  },
  {
   "cell_type": "markdown",
   "id": "c0b2c2ca",
   "metadata": {
    "papermill": {
     "duration": 0.071344,
     "end_time": "2022-06-15T11:10:27.907041",
     "exception": false,
     "start_time": "2022-06-15T11:10:27.835697",
     "status": "completed"
    },
    "tags": []
   },
   "source": [
    "<span style=\"color:#26488F; font-size:22px; font-weight: bold;\">  Save Model </span>"
   ]
  },
  {
   "cell_type": "code",
   "execution_count": null,
   "id": "19ca92e4",
   "metadata": {
    "execution": {
     "iopub.execute_input": "2022-06-15T11:10:28.052977Z",
     "iopub.status.busy": "2022-06-15T11:10:28.052609Z",
     "iopub.status.idle": "2022-06-15T11:10:28.067888Z",
     "shell.execute_reply": "2022-06-15T11:10:28.067103Z"
    },
    "papermill": {
     "duration": 0.091317,
     "end_time": "2022-06-15T11:10:28.069734",
     "exception": false,
     "start_time": "2022-06-15T11:10:27.978417",
     "status": "completed"
    },
    "tags": []
   },
   "outputs": [],
   "source": [
    "with open(\"CatBoost_diamonds.pkl\",\"wb\") as files:\n",
    "    pickle.dump(cat_reg,files)"
   ]
  },
  {
   "cell_type": "markdown",
   "id": "9dbc7dd6",
   "metadata": {
    "papermill": {
     "duration": 0.072959,
     "end_time": "2022-06-15T11:10:28.223547",
     "exception": false,
     "start_time": "2022-06-15T11:10:28.150588",
     "status": "completed"
    },
    "tags": []
   },
   "source": [
    "<span style=\"color:#1D6035; font-size:22px; font-weight: bold;\">  Comments </span> "
   ]
  },
  {
   "cell_type": "markdown",
   "id": "f18266b9",
   "metadata": {
    "papermill": {
     "duration": 0.070237,
     "end_time": "2022-06-15T11:10:28.365307",
     "exception": false,
     "start_time": "2022-06-15T11:10:28.295070",
     "status": "completed"
    },
    "tags": []
   },
   "source": [
    "I hope you liked the notebook. Feel free to leave your comments/feedback 😊"
   ]
  }
 ],
 "metadata": {
  "kernelspec": {
   "display_name": "Python 3.10.6 ('diamondsproject')",
   "language": "python",
   "name": "python3"
  },
  "language_info": {
   "codemirror_mode": {
    "name": "ipython",
    "version": 3
   },
   "file_extension": ".py",
   "mimetype": "text/x-python",
   "name": "python",
   "nbconvert_exporter": "python",
   "pygments_lexer": "ipython3",
   "version": "3.10.6"
  },
  "papermill": {
   "default_parameters": {},
   "duration": 469.962409,
   "end_time": "2022-06-15T11:10:31.058651",
   "environment_variables": {},
   "exception": null,
   "input_path": "__notebook__.ipynb",
   "output_path": "__notebook__.ipynb",
   "parameters": {},
   "start_time": "2022-06-15T11:02:41.096242",
   "version": "2.3.4"
  },
  "vscode": {
   "interpreter": {
    "hash": "f60a49ac337db96ce14f413b9390bbacd14544d39503a23b9c2cde206e208294"
   }
  }
 },
 "nbformat": 4,
 "nbformat_minor": 5
}
